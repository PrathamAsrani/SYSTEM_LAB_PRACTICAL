{
  "cells": [
    {
      "cell_type": "markdown",
      "metadata": {
        "id": "ki9Y_3Y6nknL"
      },
      "source": [
        "# Pratham-Ashok-Asrani_A-75"
      ]
    },
    {
      "cell_type": "code",
      "execution_count": 1,
      "metadata": {
        "colab": {
          "base_uri": "https://localhost:8080/",
          "height": 0
        },
        "id": "UuSi-n1FngfY",
        "outputId": "d614138f-6f45-459f-f9df-43aecaa7497d"
      },
      "outputs": [
        {
          "name": "stdout",
          "output_type": "stream",
          "text": [
            "Enter number (-1 will break the operation): 0\n",
            "0\n",
            "Enter number (-1 will break the operation): 0\n",
            "0\n",
            "Enter number (-1 will break the operation): 0\n",
            "0\n",
            "Enter number (-1 will break the operation): 1\n",
            "1\n",
            "Enter number (-1 will break the operation): 2\n",
            "2\n",
            "Enter number (-1 will break the operation): 3\n",
            "3\n",
            "Enter number (-1 will break the operation): 4\n",
            "4\n",
            "Enter number (-1 will break the operation): -2\n",
            "-2\n",
            "Enter number (-1 will break the operation): -3\n",
            "-3\n",
            "Enter number (-1 will break the operation): -4\n",
            "-4\n",
            "Enter number (-1 will break the operation): -1\n",
            "-1 is not acceptable program terminated\n",
            "The no of postive element :  4\n",
            "The no of negative element :  3\n",
            "The no of zero element :  3\n"
          ]
        }
      ],
      "source": [
        "\n",
        "# 1. Write a program to read the numbers until -1 is encountered. Also count the negatives,\n",
        "# positives, and zeros entered by the user. (input)\n",
        "postive_num = 0\n",
        "negative_num = 0\n",
        "zeros = 0\n",
        "\n",
        "for i in range(100):\n",
        "    number = int(input(\"Enter number (-1 will break the operation): \"))\n",
        "    if (number == -1):\n",
        "        print(\"-1 is not acceptable program terminated\")\n",
        "        break\n",
        "    elif (number > 0):\n",
        "        print(number)\n",
        "        postive_num += 1\n",
        "    elif (number == 0):\n",
        "        print(number)\n",
        "        zeros += 1\n",
        "    else:\n",
        "        print(number)\n",
        "        negative_num += 1\n",
        "print(\"The no of postive element : \", postive_num)\n",
        "print(\"The no of negative element : \", negative_num)\n",
        "print(\"The no of zero element : \", zeros)\n"
      ]
    },
    {
      "cell_type": "code",
      "execution_count": 3,
      "metadata": {
        "colab": {
          "base_uri": "https://localhost:8080/",
          "height": 0
        },
        "id": "NSsd4CR1n4CL",
        "outputId": "f20933ca-929d-4c24-bb1b-ab36f4af4938"
      },
      "outputs": [
        {
          "name": "stdout",
          "output_type": "stream",
          "text": [
            "Finding the strong number between the range 1 to 1000:\n",
            "1 is a Strong Number.\n",
            "2 is a Strong Number.\n",
            "145 is a Strong Number.\n"
          ]
        }
      ],
      "source": [
        "# 2. WAP to print all strong numbers between range 1-1000.\n",
        "\n",
        "import math\n",
        "maximum = 1001\n",
        "print(\"Finding the strong number between the range 1 to 1000:\")\n",
        "for n in range(1, maximum):\n",
        "    Temp = n\n",
        "    Sum = 0\n",
        "    while(Temp > 0):\n",
        "        Reminder = Temp % 10\n",
        "        Factorial = math.factorial(Reminder)\n",
        "        Sum = Sum + Factorial\n",
        "        Temp = Temp // 10\n",
        "    \n",
        "    if (Sum == n):\n",
        "        print(n,\"is a Strong Number.\")"
      ]
    },
    {
      "cell_type": "code",
      "execution_count": 5,
      "metadata": {
        "colab": {
          "base_uri": "https://localhost:8080/",
          "height": 0
        },
        "id": "hp8zkSpWoLpo",
        "outputId": "ae06ec9b-c3da-4a2c-f6e6-e83c6e1f2930"
      },
      "outputs": [
        {
          "name": "stdout",
          "output_type": "stream",
          "text": [
            "Enter the number : 5\n",
            "1.185662037037037\n"
          ]
        }
      ],
      "source": [
        "# 3. Write a program to calculate the sum of series :\n",
        "# 1/1**3 + 1/2**3 + .... + 1/n**3\n",
        "fixed_num = 1\n",
        "list_of_num = []\n",
        "number = int(input(\"Enter the number : \"))\n",
        "for i in range (1, number+1):\n",
        "    value = fixed_num/(i**3)\n",
        "    list_of_num.append(value)\n",
        "\n",
        "final_value = 0\n",
        "for i in list_of_num:\n",
        "    final_value += i\n",
        "print(final_value)"
      ]
    },
    {
      "cell_type": "code",
      "execution_count": 6,
      "metadata": {
        "colab": {
          "base_uri": "https://localhost:8080/",
          "height": 0
        },
        "id": "4P0uXCZDoMoq",
        "outputId": "1063c632-0d05-41db-dbd3-3219290b91a7"
      },
      "outputs": [
        {
          "name": "stdout",
          "output_type": "stream",
          "text": [
            "Enter number x1 : 10\n",
            "Enter number y1 : 20\n",
            "Enter number x2 : 50\n",
            "Enter number y2 : 60\n",
            "Enter number x3 : 70\n",
            "Enter number y3 : 80\n",
            "Enter number x : 30\n",
            "Enter number y : 40\n",
            "Point lies inside the traingle\n"
          ]
        }
      ],
      "source": [
        "# 4. Given three corner points of a triangle, and one more point P. Write a function to\n",
        "# check whether P lies within the triangle or not. Let the coordinates of three corners be (x1, y1), (x2, y2) and (x3, y3). And coordinates of the given point P be (x, y).\n",
        "\n",
        "\n",
        "def area(x1, y1, x2, y2, x3, y3):\n",
        "    return abs((x1 * (y2 - y3) + x2 * (y3 - y1) + x3 * (y1 - y2)) / 2) # area of traingle\n",
        "\n",
        "def Check_Point_Lies(x1, y1, x2, y2, x3, y3, x, y):\n",
        "    Area_of_Traingle = area(x1, y1, x2, y2, x3, y3)\n",
        "    Area_of_Traingle_1_p = area(x, y, x2, y2, x3, y3)\n",
        "    Area_of_Traingle_2_p = area(x1, y1, x, y, x3, y3)\n",
        "    Area_of_Traingle_3_p = area(x1, y1, x2, y2, x, y)\n",
        "    if(Area_of_Traingle == (Area_of_Traingle_1_p + Area_of_Traingle_2_p + Area_of_Traingle_3_p)):\n",
        "        return 1\n",
        "    else:\n",
        "        return 0\n",
        "\n",
        "def main():\n",
        "    x = int(input(\"Enter number x1 : \"))\n",
        "    y = int(input(\"Enter number y1 : \"))\n",
        "    x1 = int(input(\"Enter number x2 : \"))\n",
        "    y1 = int(input(\"Enter number y2 : \"))\n",
        "    x2 = int(input(\"Enter number x3 : \"))\n",
        "    y2 = int(input(\"Enter number y3 : \"))\n",
        "    x3 = int(input(\"Enter number x : \"))\n",
        "    y3 = int(input(\"Enter number y : \"))\n",
        "    result = Check_Point_Lies(x1, y1, x2, y2, x3, y3, x, y)\n",
        "    # print (result)\n",
        "    if(result == 1):\n",
        "        print(\"Point lies inside the traingle\")\n",
        "    else:\n",
        "        print(\"Point does not lies inside the traingle\")\n",
        "\n",
        "main()\n",
        "\n",
        "# Time Complexity : 0(1)"
      ]
    },
    {
      "cell_type": "code",
      "execution_count": 7,
      "metadata": {
        "colab": {
          "base_uri": "https://localhost:8080/",
          "height": 0
        },
        "id": "b8Rc9Px2ocMI",
        "outputId": "aff2425e-53fa-4351-a59f-26d78110fa93"
      },
      "outputs": [
        {
          "name": "stdout",
          "output_type": "stream",
          "text": [
            "' a ' ocurered 3 times\n",
            "' e ' ocurered 6 times\n",
            "' i ' ocurered 7 times\n",
            "' o ' ocurered 9 times\n",
            "' u ' ocurered 9 times\n"
          ]
        }
      ],
      "source": [
        "# 5. Write a program to count the occurrences of vowels in a list =\n",
        "# ['s','h','r','i','r','a','m','d','e','o','b','a','b','a','c','o','l','l','e','g','e']\n",
        "\n",
        "# user defined\n",
        "# str = input(\"Enter string : \")\n",
        "# str_list = []\n",
        "# for character in str:\n",
        "#     str_list.append(character)\n",
        "\n",
        "# Given list : \n",
        "str_list = ['s','h','r','i','r','a','m','d','e','o','b','a','b','a','c','o','l','l','e','g','e']\n",
        "vowels = ['a', 'e', 'i', 'o', 'u']\n",
        "count = 0\n",
        "for i in vowels:\n",
        "    for j in str_list:\n",
        "        if(i == j):\n",
        "            count += 1\n",
        "    print( \"'\" ,i, \"'\" ,\"ocurered\", count, \"times\")"
      ]
    },
    {
      "cell_type": "code",
      "execution_count": 8,
      "metadata": {
        "colab": {
          "base_uri": "https://localhost:8080/",
          "height": 0
        },
        "id": "jNe5BtEAogLZ",
        "outputId": "3c222aaf-e466-4beb-cb1a-818a36943930"
      },
      "outputs": [
        {
          "name": "stdout",
          "output_type": "stream",
          "text": [
            "The elements repeated data is shown below : \n",
            "(1, 1)\n",
            "(2, 1)\n",
            "(3, 8)\n",
            "(4, 3)\n",
            "(5, 2)\n",
            "(6, 1)\n",
            "(7, 2)\n",
            "(8, 2)\n",
            "(9, 1)\n"
          ]
        }
      ],
      "source": [
        "# 6. Write a program to find the repeated items of a tuple. Print item and find how\n",
        "# many times it is repeated.\n",
        "\n",
        "# user input tuple :\n",
        "# n = int(input(\"Enter the number of elements : \"))\n",
        "# list_for_tuple = []\n",
        "# for i in range (n):\n",
        "    # element = int(input(\"Enter value : \"))\n",
        "    # list_for_tuple.append[element]\n",
        "# tuple_of_number = tuple(list_for_tuple)\n",
        "\n",
        "\n",
        "# programmer defined input\n",
        "tuple_of_number = (1,2,3,4,3,4,3,5,3,4,5,6,7,8,3,3,3,7,8,9,3)\n",
        "lenght = len(tuple_of_number)\n",
        "\n",
        "# intialize dict to store the key as element and value as count of element\n",
        "dict_count = {}\n",
        "\n",
        "for i in range(lenght):\n",
        "    count = 0 \n",
        "    \n",
        "    for j in range(lenght):\n",
        "        if (tuple_of_number[i] == tuple_of_number[j]): # 1\n",
        "            count += 1\n",
        "        dict_count[tuple_of_number[i]] = count\n",
        "print(\"The elements repeated data is shown below : \")\n",
        "for i in dict_count.items():\n",
        "    print(i)\n",
        "\n",
        "# Time Complexity is 0(n), where n is input size, in case of user defined\n"
      ]
    },
    {
      "cell_type": "code",
      "execution_count": 9,
      "metadata": {
        "colab": {
          "base_uri": "https://localhost:8080/",
          "height": 0
        },
        "id": "88Yf9_p6okXc",
        "outputId": "da398b60-bc00-4564-d879-5a26a222fad8"
      },
      "outputs": [
        {
          "name": "stdout",
          "output_type": "stream",
          "text": [
            "Enter the number of Rotation in a list : 3\n",
            "[2, 3, 4, 5, 1]\n",
            "[3, 4, 5, 1, 2]\n",
            "[4, 5, 1, 2, 3]\n"
          ]
        }
      ],
      "source": [
        "# 8. A List rotation consists of taking the first element and moving it to the end.\n",
        "# Write a python that takes a list L and a positive integer k and generate the list\n",
        "# L after k rotations. If K is not positive, it should return L unchanged.\n",
        "# 1. Ip: L=[1,2,3,4,5]\n",
        "# 2. After 1st rotation: list become [2,3,4,5,1]\n",
        "# 3. After the 2nd rotation list becomes [3,4,5,1,2]……. So on.\n",
        "# 4. Print output after each rotation. Take the value of k from the user.\n",
        "\n",
        "# import numpy\n",
        "list_of_num = [1, 2, 3, 4, 5]\n",
        "# list_of_num = []\n",
        "# size = int(input(\"Enter the size : \"))\n",
        "# for i in range (size):\n",
        "#     element = int(input())\n",
        "#     list_of_num.append(element)\n",
        "\n",
        "k = abs(int(input(\"Enter the number of Rotation in a list : \")))\n",
        "for i in range (k):\n",
        "    temp = list_of_num[0] # stored\n",
        "    index = 1\n",
        "    for j in range (len(list_of_num)):\n",
        "        if(index < 5):\n",
        "            list_of_num[j] = list_of_num[index]\n",
        "        else:\n",
        "            break\n",
        "        index += 1\n",
        "    list_of_num[len(list_of_num) - 1] = temp\n",
        "    print(list_of_num)\n"
      ]
    },
    {
      "cell_type": "code",
      "execution_count": 10,
      "metadata": {
        "colab": {
          "base_uri": "https://localhost:8080/",
          "height": 0
        },
        "id": "n0Vweu7noojM",
        "outputId": "257ca48e-ecb0-42bb-d3fd-33ad9a9b43d2"
      },
      "outputs": [
        {
          "name": "stdout",
          "output_type": "stream",
          "text": [
            "First three toppers as follow : \n",
            "1 : Pratham\n",
            "2 : Rahul\n",
            "3 : Rex\n"
          ]
        }
      ],
      "source": [
        "# 9. Write a python program to define a tuple of 10 student’s information as roll no., name, address and marks of 3 subjects Physics, Chemistry and Mathematics. The list is sorted by roll no. Your program should display list of three toppers in all students.\n",
        " \n",
        "List_Student_Data=[\n",
        "    (2, \"Pratham\", \"Nagpur\", 100, 99, 100),\n",
        "    (1, \"Yogesh\", \"Bhopal\", 100, 80, 80),\n",
        "    (3, \"Krish\", \"Chennai\", 70, 80, 100),\n",
        "    (10, \"Rahul\", \"Mumbai\", 80, 100, 93),\n",
        "    (9, \"Rex\", \"Navi-mumbai\", 86, 92, 85),\n",
        "    (7, \"John\", \"Raigad\", 100, 80, 80),\n",
        "    (6, \"Thomsan\", \"Indore\", 84, 87, 80),\n",
        "    (8, \"lily\", \"Shirdi\", 82, 80, 80),\n",
        "    (4, \"Vivek\", \"Coimboture\", 100, 80, 80),\n",
        "    (5, \"Nitin\", \"Wardha\", 88, 87, 8)\n",
        "]\n",
        "\n",
        "#sorting list according to the roll numbers\n",
        "List_Student_Data.sort(key=lambda x: x[0])\n",
        "\n",
        "dict={} \n",
        "for i in range(len(List_Student_Data)):\n",
        "       sum=0\n",
        "       for j in range(3,6):\n",
        "            sum=sum+List_Student_Data[i][j]\n",
        "       dict[i] = sum\n",
        "\n",
        "# sorting marks\n",
        "sorted_marks = sorted(dict.values())    \n",
        "\n",
        "keys = list(dict.keys())\n",
        "values = list(dict.values())\n",
        "count = 1\n",
        "print(\"First three toppers as follow : \")\n",
        "for i in range(10,7,-1):\n",
        "    key = sorted_marks[i-1]\n",
        "    index = values.index(key)\n",
        "    print(count, \":\", List_Student_Data[index][1])\n",
        "    count += 1"
      ]
    },
    {
      "cell_type": "code",
      "execution_count": 11,
      "metadata": {
        "colab": {
          "base_uri": "https://localhost:8080/",
          "height": 0
        },
        "id": "9Hq4EwMborTy",
        "outputId": "68a7f5e1-6154-4849-ec92-d5a3dd30e9ad"
      },
      "outputs": [
        {
          "name": "stdout",
          "output_type": "stream",
          "text": [
            "['P', 'y', 't', 'h', 'o', 'n', ' ', 'i', 's', 'f', 'u', 'C', '+', 'l', 'v', 'e']\n"
          ]
        }
      ],
      "source": [
        "# 10.Python program that displays which letters present in the two strings but not in both.\n",
        "\n",
        "string1 = \"Python is fun\"\n",
        "string2 = \"C++ is love\"\n",
        "\n",
        "list_unmatched_character = []\n",
        "for i in string1:\n",
        "    if i not in list_unmatched_character:\n",
        "        list_unmatched_character.append(i)\n",
        "for j in string2:\n",
        "    if j not in list_unmatched_character:\n",
        "        list_unmatched_character.append(j)\n",
        "print(list_unmatched_character)\n"
      ]
    },
    {
      "cell_type": "code",
      "execution_count": 12,
      "metadata": {
        "colab": {
          "base_uri": "https://localhost:8080/",
          "height": 0
        },
        "id": "nq9yu4w3otqa",
        "outputId": "32eec389-4386-455f-9c3f-480a8ef8a7d4"
      },
      "outputs": [
        {
          "name": "stdout",
          "output_type": "stream",
          "text": [
            "33\n"
          ]
        }
      ],
      "source": [
        "# 11.Create a list of tuples, with each tuple having 5 numbers. Perform the addition\n",
        "# of 3rd numbers of each tuple.\n",
        "list_of_tuples = [\n",
        "    (1, 2, 3, 4, 5),\n",
        "    (1, 2, 3, 4, 5),\n",
        "    (1, 2, 3, 4, 5),\n",
        "    (6, 7, 8, 9, 10),\n",
        "    (6, 7, 8, 9, 10),\n",
        "    (6, 7, 8, 9, 10)\n",
        "]\n",
        "# for 3rd number index is 2\n",
        "sum = 0\n",
        "for i in range (len(list_of_tuples)):\n",
        "    sum += list_of_tuples[i][2]\n",
        "print(sum)"
      ]
    },
    {
      "cell_type": "code",
      "execution_count": 13,
      "metadata": {
        "colab": {
          "base_uri": "https://localhost:8080/",
          "height": 0
        },
        "id": "INmaaVwqoxVT",
        "outputId": "ded0726e-8065-4258-b3ca-81a17f09aecc"
      },
      "outputs": [
        {
          "name": "stdout",
          "output_type": "stream",
          "text": [
            "The long_string is : \n",
            "Lorem ipsum dolor sit amet consectetur adipisicing elit. Voluptates aspernatur eum labore asperiores aliquam placeat consectetur cupiditate nesciunt dolor magnam, earum, natus ab illum minus similique error quae fugiat atque esse, laborum repudiandae temporibus tempore doloribus!\n",
            "\n",
            "List format : \n",
            "['Lorem', 'ipsum', 'dolor', 'sit', 'amet', 'consectetur', 'adipisicing', 'elit.', 'Voluptates', 'aspernatur', 'eum', 'labore', 'asperiores', 'aliquam', 'placeat', 'consectetur', 'cupiditate', 'nesciunt', 'dolor', 'magnam,', 'earum,', 'natus', 'ab', 'illum', 'minus', 'similique', 'error', 'quae', 'fugiat', 'atque', 'esse,', 'laborum', 'repudiandae', 'temporibus', 'tempore', 'doloribus!']\n",
            "\n",
            "Tuple format : \n",
            "('Lorem', 'ipsum', 'dolor', 'sit', 'amet', 'consectetur', 'adipisicing', 'elit.', 'Voluptates', 'aspernatur', 'eum', 'labore', 'asperiores', 'aliquam', 'placeat', 'consectetur', 'cupiditate', 'nesciunt', 'dolor', 'magnam,', 'earum,', 'natus', 'ab', 'illum', 'minus', 'similique', 'error', 'quae', 'fugiat', 'atque', 'esse,', 'laborum', 'repudiandae', 'temporibus', 'tempore', 'doloribus!')\n",
            "\n",
            "The frequency of words is as follow : \n",
            "('Lorem', 1)\n",
            "('ipsum', 1)\n",
            "('dolor', 2)\n",
            "('sit', 1)\n",
            "('amet', 1)\n",
            "('consectetur', 2)\n",
            "('adipisicing', 1)\n",
            "('elit.', 1)\n",
            "('Voluptates', 1)\n",
            "('aspernatur', 1)\n",
            "('eum', 1)\n",
            "('labore', 1)\n",
            "('asperiores', 1)\n",
            "('aliquam', 1)\n",
            "('placeat', 1)\n",
            "('cupiditate', 1)\n",
            "('nesciunt', 1)\n",
            "('magnam,', 1)\n",
            "('earum,', 1)\n",
            "('natus', 1)\n",
            "('ab', 1)\n",
            "('illum', 1)\n",
            "('minus', 1)\n",
            "('similique', 1)\n",
            "('error', 1)\n",
            "('quae', 1)\n",
            "('fugiat', 1)\n",
            "('atque', 1)\n",
            "('esse,', 1)\n",
            "('laborum', 1)\n",
            "('repudiandae', 1)\n",
            "('temporibus', 1)\n",
            "('tempore', 1)\n",
            "('doloribus!', 1)\n"
          ]
        }
      ],
      "source": [
        "# 12.Write a python program to Convert a long string to a list, list to a tuple, tuple to list and print all the words and their frequencies.\n",
        "\n",
        "long_string = '''Lorem ipsum dolor sit amet consectetur adipisicing elit. Voluptates aspernatur eum labore asperiores aliquam placeat consectetur cupiditate nesciunt dolor magnam, earum, natus ab illum minus similique error quae fugiat atque esse, laborum repudiandae temporibus tempore doloribus!'''\n",
        "\n",
        "print(\"The long_string is : \\n\"+ long_string)\n",
        "\n",
        "print(\"\\nList format : \")\n",
        "List_long_string = [x for x in long_string.split()]\n",
        "print(List_long_string)\n",
        "\n",
        "print(\"\\nTuple format : \")\n",
        "tuple_long_string = tuple(List_long_string)\n",
        "print(tuple_long_string)\n",
        "\n",
        "dict_words_freq = {}\n",
        "for x in List_long_string:\n",
        "    if x not in dict_words_freq:\n",
        "        dict_words_freq[x] = List_long_string.count(x)\n",
        "\n",
        "print(\"\\nThe frequency of words is as follow : \")\n",
        "for i in dict_words_freq.items():\n",
        "    print(i)"
      ]
    }
  ],
  "metadata": {
    "colab": {
      "provenance": []
    },
    "kernelspec": {
      "display_name": "Python 3",
      "language": "python",
      "name": "python3"
    },
    "language_info": {
      "name": "python",
      "version": "3.11.0 (main, Oct 24 2022, 18:26:48) [MSC v.1933 64 bit (AMD64)]"
    },
    "vscode": {
      "interpreter": {
        "hash": "da007b6b36d242842e366663a6d3f92ce2759b3e4d2e490043e1a6819edf4f32"
      }
    }
  },
  "nbformat": 4,
  "nbformat_minor": 0
}
