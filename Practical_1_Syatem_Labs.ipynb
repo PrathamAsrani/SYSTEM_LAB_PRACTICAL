{
  "nbformat": 4,
  "nbformat_minor": 0,
  "metadata": {
    "colab": {
      "provenance": []
    },
    "kernelspec": {
      "name": "python3",
      "display_name": "Python 3"
    },
    "language_info": {
      "name": "python"
    }
  },
  "cells": [
    {
      "cell_type": "markdown",
      "source": [
        "**Pratham Ashok Asrani A_75**"
      ],
      "metadata": {
        "id": "eRYzlH2BUZTK"
      }
    },
    {
      "cell_type": "code",
      "execution_count": 10,
      "metadata": {
        "id": "7XQjA66s2PZ1",
        "colab": {
          "base_uri": "https://localhost:8080/",
          "height": 0
        },
        "outputId": "c3eb59cd-0d6a-4468-85e5-4e0812c8a009"
      },
      "outputs": [
        {
          "output_type": "stream",
          "name": "stdout",
          "text": [
            "Enter integer : 100\n",
            "Enter the string : Hello world!\n",
            "Enter float : 99.99\n",
            "Enter complex number : 2+3j\n",
            "Integer :  100\n",
            "String :  Hello world!\n",
            "float :  99.99\n",
            "complex_number :  (2+3j)\n"
          ]
        }
      ],
      "source": [
        "# Aim: Data Types and Operators in Python\n",
        "# (i)Write a python Program to Print data of different data types using variables and literal constants. (string, int, float, complex)\n",
        "\n",
        "# Name : Pratham Asrani - A_75\n",
        "#Ans : \n",
        "\n",
        "# Take input of primitive data-type and print them with their type\n",
        "\n",
        "# primitive data types\n",
        "# 1. integer : \n",
        "integer = int(input('Enter integer : '))\n",
        "# 2. String : \n",
        "str_word = input(\"Enter the string : \")\n",
        "# 3. float : \n",
        "point_float = float(input(\"Enter float : \"))\n",
        "# 4. Complex_number : \n",
        "complex_number = complex(input(\"Enter complex number in terms of 'j' : \"))\n",
        "\n",
        "print(\"Integer : \", integer)\n",
        "print(\"String : \", str_word)\n",
        "print(\"float : \", point_float)\n",
        "print(\"complex_number : \", complex_number)"
      ]
    },
    {
      "cell_type": "code",
      "source": [
        "# (ii)Write a python Program to read two numbers from user input and apply all the arithmetic and comparison(Relational) operators.\n",
        "\n",
        "#Ans :\n",
        "\n",
        "num1 = int(input(\"Enter the number 1 : \"))\n",
        "num2 = int(input(\"Enter the number 2 : \"))\n",
        "\n",
        "\n",
        "def Operators(n1, n2):\n",
        "    print(n1, n2)\n",
        "    print(\"The Arithematic Operators : \")\n",
        "    print(\"The summation is : \", n1+n2)\n",
        "    print(\"The substraction is : \", n1-n2)\n",
        "    print(\"The multiplication is : \", n1*n2)\n",
        "    print(\"The division is : \", n1/n2)\n",
        "    print(\"The remainder is : \", n1 % n2)\n",
        "    print(\"The exponent is : \", n1**n2)\n",
        "    print(\"The floor division is : \", n1//n2)\n",
        "    print(\"The Logical Operators : \")\n",
        "    print(\"The compare between num1 and num2 (num 1 greater) : \", num1 > num2)\n",
        "    print(\"The compare between num1 and num2 (num 1 smaller) : \", num1 < num2)\n",
        "\n",
        "Operators(num1, num2)\n"
      ],
      "metadata": {
        "id": "Gkl7SBzl2nni",
        "colab": {
          "base_uri": "https://localhost:8080/",
          "height": 0
        },
        "outputId": "46853cea-b009-413a-a074-a0f2a768271b"
      },
      "execution_count": 5,
      "outputs": [
        {
          "output_type": "stream",
          "name": "stdout",
          "text": [
            "Enter the number 1 : 2\n",
            "Enter the number 2 : 5\n",
            "2 5\n",
            "The Arithematic Operators : \n",
            "The summation is :  7\n",
            "The substraction is :  -3\n",
            "The multiplication is :  10\n",
            "The division is :  0.4\n",
            "The remainder is :  2\n",
            "The exponent is :  32\n",
            "The floor division is :  0\n",
            "The Logical Operators : \n",
            "The compare between num1 and num2 (num 1 greater) :  False\n",
            "The compare between num1 and num2 (num 1 smaller) :  True\n"
          ]
        }
      ]
    },
    {
      "cell_type": "code",
      "source": [
        "# (iii)Write a python Program to demonstrate Logical operators, Identity operators, and Membership operator in python.\n",
        "\n",
        "#Ans :\n",
        "\n",
        "# a, b, c = int(input(\"Enter a : \")), int(input(\"Enter b : \")), int(input(\"Enter c : \")) # user input\n",
        "a = 10\n",
        "b = 20\n",
        "c = 10\n",
        "arr = [10, 30, 40]\n",
        "\n",
        "print(\"\\nLogical Operator : \\n\")\n",
        "print(\"AND operator \\t\\t: \")\n",
        "print(\"(a<100 and a>0) \\t: \", (a<100 and a>0))\n",
        "print(\"(a<100 and a>50) \\t: \", (a<100 and a>50))\n",
        "print(\"OR operator \\t\\t: \")\n",
        "print(\"(a<100 or a>0) \\t\\t: \", (a<100 or a>0))\n",
        "print(\"(a<100 or a>50) \\t: \", (a<100 or a>50))\n",
        "print(\"NOT operator \\t\\t: \")\n",
        "print(\"not(a) \\t\\t\\t: \", not(a))\n",
        "\n",
        "print(\"\\nIdentity Operator \\t: \\n\")\n",
        "print(\"a is c \\t\\t\\t: \", a is c)\n",
        "print(\"a is not c \\t\\t: \", a is not c)\n",
        "\n",
        "print(\"\\nMembership Operator \\t: \\n\")\n",
        "print(\"a in arr \\t\\t: \", a in arr)\n",
        "print(\"c in arr \\t\\t: \", c in arr)\n",
        "print(\"b in arr \\t\\t: \", b in arr)\n",
        "print(\"a not in arr \\t\\t: \", a not in arr)\n",
        "print(\"b not in arr \\t\\t: \", b not in arr)"
      ],
      "metadata": {
        "id": "pjcMu7hR2rK3",
        "colab": {
          "base_uri": "https://localhost:8080/",
          "height": 0
        },
        "outputId": "a44c60a9-94f0-45ae-d46c-49383b70e870"
      },
      "execution_count": 4,
      "outputs": [
        {
          "output_type": "stream",
          "name": "stdout",
          "text": [
            "\n",
            "Logical Operator : \n",
            "\n",
            "AND operator \t\t: \n",
            "(a<100 and a>0) \t:  True\n",
            "(a<100 and a>50) \t:  False\n",
            "OR operator \t\t: \n",
            "(a<100 or a>0) \t\t:  True\n",
            "(a<100 or a>50) \t:  True\n",
            "NOT operator \t\t: \n",
            "not(a) \t\t\t:  False\n",
            "\n",
            "Identity Operator \t: \n",
            "\n",
            "a is c \t\t\t:  True\n",
            "a is not c \t\t:  False\n",
            "\n",
            "Membership Operator \t: \n",
            "\n",
            "a in arr \t\t:  True\n",
            "c in arr \t\t:  True\n",
            "b in arr \t\t:  False\n",
            "a not in arr \t\t:  False\n",
            "b not in arr \t\t:  True\n"
          ]
        }
      ]
    },
    {
      "cell_type": "code",
      "source": [
        "# (iv) Write a Python program to input temperature in Fahrenheit and convert into  Celsius. And vice versa\n",
        "\n",
        "#Ans :\n",
        "\n",
        "print(\"Enter 1 : to convert from Fahrenheit to celsius\\nEnter 2 : to convert from celsius to Fahrenheit\\n\")\n",
        "Temp = int(input(\"Enter number : \"))\n",
        "temperature = int(input(\"Enter the temperature : \"))\n",
        "\n",
        "def Fahrenheit(te):\n",
        "    return \"The temperature in Celsius is : \",(te-32)*5/9\n",
        "\n",
        "def celsius(te):\n",
        "    return \"The temperature in Fahrenheit is : \",(te*9/5) + 32\n",
        "\n",
        "if(Temp == 1):\n",
        "    result = Fahrenheit(temperature)\n",
        "    print(result)\n",
        "else:\n",
        "    result = celsius(temperature)\n",
        "    print(result)"
      ],
      "metadata": {
        "id": "68C1-0iO2vxm",
        "colab": {
          "base_uri": "https://localhost:8080/",
          "height": 0
        },
        "outputId": "1885d4f4-cad1-43fa-e672-f0a6f2eb33a6"
      },
      "execution_count": 3,
      "outputs": [
        {
          "output_type": "stream",
          "name": "stdout",
          "text": [
            "Enter 1 : to convert from Fahrenheit to celsius\n",
            "Enter 2 : to convert from celsius to Fahrenheit\n",
            "\n",
            "Enter number : 1\n",
            "Enter the temperature : 100\n",
            "('The temperature in Celsius is : ', 37.77777777777778)\n"
          ]
        }
      ]
    },
    {
      "cell_type": "code",
      "source": [
        "# (v)Write a program that asks the user to input their name and their age. Print out a message addressed to them that tells them the year that they will turn 75 years old.\n",
        "\n",
        "#Ans :\n",
        "\n",
        "import datetime\n",
        "current_time = datetime.datetime.now()\n",
        "\n",
        "# WAPP takes input user's name and age print out addressed to them the year they will turn into 75 years old\n",
        "name, age = input(\"Enter name : \"), int(input(\"Enter age : \"))\n",
        "\n",
        "current_year = current_time.year\n",
        "print(current_year) # prints the year going on\n",
        "remaining_age = 75 - age\n",
        "result = current_year + remaining_age\n",
        "print(\"The year you turn into 75 is :\", result)"
      ],
      "metadata": {
        "id": "uZUFsQLv2yMW",
        "colab": {
          "base_uri": "https://localhost:8080/",
          "height": 0
        },
        "outputId": "3d655888-4828-46ad-e415-b74d0e91eff6"
      },
      "execution_count": 2,
      "outputs": [
        {
          "output_type": "stream",
          "name": "stdout",
          "text": [
            "Enter name : Pratham Asrani\n",
            "Enter age : 19\n",
            "2022\n",
            "The year you turn into 75 is : 2078\n"
          ]
        }
      ]
    },
    {
      "cell_type": "code",
      "source": [
        "# (vi)Evaluate the given arithmetic expressions using the rules of operator precedence in Python.          \n",
        "# 6 + 8 * (3 + 7) - 2 % 9 ** 4   \n",
        "\n",
        "#Ans :\n",
        "\n",
        "\n",
        "a = 6 + 8 * (3 + 7) \n",
        "b = 2 % 9 ** 4  \n",
        "print( \"The value of a :\" ,a)\n",
        "print( \"The value of b :\" ,b)\n",
        "print(\"First operational expression having operator precedence\")\n",
        "# Comapring both equation : \n",
        "if(a>b):\n",
        "    print(\"the equation corresponds to 'a' is greater\")\n",
        "else:\n",
        "    print(\"The equation corresponds to 'b' is greater\")\n",
        "\n",
        "\n",
        "# Explanation : \n",
        "# () : brackets operating first as per boardmas rule = 10\n",
        "# * : 10 * 8 = 80\n",
        "# + : 86\n",
        "# - : 86 - 2 = 84\n",
        "# % : 84 / 6561 : remainder (0.012) cannot br defined therfore 84 is the final ans"
      ],
      "metadata": {
        "id": "2EprtS_x2zWC",
        "colab": {
          "base_uri": "https://localhost:8080/",
          "height": 0
        },
        "outputId": "3288ef64-df81-4c1c-bd70-4753aecb49b7"
      },
      "execution_count": 1,
      "outputs": [
        {
          "output_type": "stream",
          "name": "stdout",
          "text": [
            "The value of a : 86\n",
            "The value of b : 2\n",
            "First operational expression having operator precedence\n",
            "the equation corresponds to 'a' is greater\n"
          ]
        }
      ]
    },
    {
      "cell_type": "code",
      "source": [
        "# (vii) Write a python program to generate bill a grocery store. Accept from user: name of item, quantity, cost for three items. Compute the actual cost payable by applying discount(in %) and tax(in %). Print the bill in the following format.\n",
        " \n",
        "# ***********BILL*************\n",
        "# Item Name   Quantity       Price\n",
        "# *****************************\n",
        "# Total\n",
        "# *****************************\n",
        "# Discount\n",
        "# Tax\n",
        "# *****************************\n",
        "# Payable amount\n",
        "# *****************************\n",
        "\n",
        "#Ans :\n",
        "\n",
        "import datetime\n",
        "today = datetime.date.today()\n",
        "Item1 = input(\"Enter item no 1 name : \")\n",
        "quantity1 = int(input(\"Enter the quantity of item no 1 : \"))\n",
        "price1 = int(input(\"Enter Price : \"))\n",
        "Item2 = input(\"Enter item no 2 name : \")\n",
        "quantity2 = int(input(\"Enter the quantity of item no 2 : \"))\n",
        "price2 = int(input(\"Enter Price : \"))\n",
        "Item3 = input(\"Enter item no 3 name : \")\n",
        "quantity3 = int(input(\"Enter the quantity of item no 3 : \"))\n",
        "price3 = int(input(\"Enter Price : \"))\n",
        "total1 = price1 * quantity1\n",
        "total2 = price2 * quantity2\n",
        "total3 = price3 * quantity3\n",
        "total = total1 + total2 + total3\n",
        "# Assume discount = 20%\n",
        "# Assume tax = 18%\n",
        "tax = total*0.18\n",
        "discount = total*0.20\n",
        "Final_amount = total + tax - discount\n",
        "print(\"****************BILL******************\")\n",
        "print(\"\\t\\t\\t\", today)\n",
        "print(\"Item name\\t\",\"Quantity\\t\",\"Price\")\n",
        "print(\"1. \",Item1,\"\\t\", quantity1, \"\\t\\t\", price1)\n",
        "print(\"2. \",Item2,\"\\t\", quantity2, \"\\t\\t\", price2)\n",
        "print(\"3. \",Item3,\"\\t\", quantity3, \"\\t\\t\", price3)\n",
        "print(\"**************************************\")\n",
        "print(\"Total\\t\\t\\t\\t\"'{:.2f}'.format(total))\n",
        "print(\"**************************************\")\n",
        "print(\"Discount\\t\\t\\t\",'{:.2f}'.format(discount))\n",
        "print(\"Tax\\t\\t\\t\\t\",tax)\n",
        "print(\"**************************************\")\n",
        "print(\"Final Payable Amount :\\t\\t\",'{:.2f}'.format(Final_amount))"
      ],
      "metadata": {
        "id": "XUcBRFrr25td",
        "colab": {
          "base_uri": "https://localhost:8080/",
          "height": 0
        },
        "outputId": "e506de42-cfb6-45e3-ffb7-fd92ed44bf0c"
      },
      "execution_count": 8,
      "outputs": [
        {
          "output_type": "stream",
          "name": "stdout",
          "text": [
            "Enter item no 1 name : Parle-G\n",
            "Enter the quantity of item no 1 : 10\n",
            "Enter Price : 10\n",
            "Enter item no 2 name : Register\n",
            "Enter the quantity of item no 2 : 10\n",
            "Enter Price : 55\n",
            "Enter item no 3 name : Maggi\n",
            "Enter the quantity of item no 3 : 10\n",
            "Enter Price : 14\n",
            "****************BILL******************\n",
            "\t\t\t 2022-11-24\n",
            "Item name\t Quantity\t Price\n",
            "1.  Parle-G \t 10 \t\t 10\n",
            "2.  Register \t 10 \t\t 55\n",
            "3.  Maggi \t 10 \t\t 14\n",
            "**************************************\n",
            "Total\t\t\t\t790.00\n",
            "**************************************\n",
            "Discount\t\t\t 158.00\n",
            "Tax\t\t\t\t 142.2\n",
            "**************************************\n",
            "Final Payable Amount :\t\t 774.20\n"
          ]
        }
      ]
    }
  ]
}