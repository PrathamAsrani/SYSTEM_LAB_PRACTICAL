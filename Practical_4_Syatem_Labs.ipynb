{
  "nbformat": 4,
  "nbformat_minor": 0,
  "metadata": {
    "colab": {
      "provenance": []
    },
    "kernelspec": {
      "name": "python3",
      "display_name": "Python 3"
    },
    "language_info": {
      "name": "python"
    }
  },
  "cells": [
    {
      "cell_type": "markdown",
      "source": [
        "# Pratham-Ashok-Asrani_A-75"
      ],
      "metadata": {
        "id": "d6UJe7vlnuH3"
      }
    },
    {
      "cell_type": "code",
      "source": [
        "# 1. Write a function called showNumbers( ) that takes a parameter called limit. It should print all the numbers between 0 and limit with a label to identify the even and odd numbers. For example, if the limit is 3, it should print:\n",
        "#   0 EVEN\n",
        "#   1 ODD\n",
        "#   2 EVEN\n",
        "#   3 ODD\n",
        "\n",
        "def showNumbers(limit):\n",
        "  for i in range (1, limit+1):\n",
        "    if (i%2 == 0):\n",
        "      print(i,\"even\")\n",
        "    else:\n",
        "      print (i,\"odd\")\n",
        "limit = int(input(\"enter the limit : \"))\n",
        "\n",
        "showNumbers(limit)"
      ],
      "metadata": {
        "colab": {
          "base_uri": "https://localhost:8080/"
        },
        "id": "BQH6Skdb-OqB",
        "outputId": "a1913039-3e35-4f8d-820c-b958e4ae99e7"
      },
      "execution_count": null,
      "outputs": [
        {
          "output_type": "stream",
          "name": "stdout",
          "text": [
            "enter the limit : 10\n",
            "1 odd\n",
            "2 even\n",
            "3 odd\n",
            "4 even\n",
            "5 odd\n",
            "6 even\n",
            "7 odd\n",
            "8 even\n",
            "9 odd\n",
            "10 even\n"
          ]
        }
      ]
    },
    {
      "cell_type": "code",
      "source": [
        "# 2. Write a function that returns the sum of multiples of 3 and 5 between 0 and limit. (parameter). For example, if limit is 20, it should return the sum of 3, 5, 6, 9, 10, 12, 15, 18, 20.\n",
        "\n",
        "def multiplies(limit):\n",
        "  sum = 0\n",
        "  for i in range (1, limit+1):\n",
        "    if (i%3 == 0) or (i%5 == 0):\n",
        "      sum += i\n",
        "      print(i)\n",
        "  print(\"The sum of 3 and 5 multiples is :\",sum)\n",
        "limit = int(input(\"enter the limit : \"))\n",
        "multiplies(limit)"
      ],
      "metadata": {
        "colab": {
          "base_uri": "https://localhost:8080/"
        },
        "id": "NuqgBTcn-TcQ",
        "outputId": "7f309983-c5ce-4a4f-b811-bd1cb8a68a8d"
      },
      "execution_count": null,
      "outputs": [
        {
          "output_type": "stream",
          "name": "stdout",
          "text": [
            "enter the limit : 20\n",
            "3\n",
            "5\n",
            "6\n",
            "9\n",
            "10\n",
            "12\n",
            "15\n",
            "18\n",
            "20\n",
            "The sum of 3 and 5 multiples is : 98\n"
          ]
        }
      ]
    },
    {
      "cell_type": "code",
      "execution_count": 1,
      "metadata": {
        "colab": {
          "base_uri": "https://localhost:8080/"
        },
        "id": "owzW5b8a9CpZ",
        "outputId": "132e9e82-97c2-452c-9ce1-af71ac0aa27c"
      },
      "outputs": [
        {
          "output_type": "stream",
          "name": "stdout",
          "text": [
            "Enter limit: 1000\n",
            "Neon Numbers are : \n",
            "1\n",
            "9\n"
          ]
        }
      ],
      "source": [
        "# 1. A)Write a function called showNumbers( ) that takes a parameter called limit. It should\n",
        "#   print all neon numbers between 0 and limit with a label to identify the even and odd\n",
        "#   numbers. For example, if the limit is 3, it should print:\n",
        "#   (Note:A neon number is a number where the sum of digits of square of the number is\n",
        "#   equal to the number. The task is to check and print neon numbers in a range.)\n",
        "\n",
        "def NeonNumber(limit):\n",
        "  sum = 0\n",
        "  sqr = limit*limit\n",
        "  while(sqr != 0):\n",
        "    sum += int(sqr%10)\n",
        "    sqr /= 10\n",
        "  return (sum == limit)\n",
        "\n",
        "limit = int(input(\"Enter limit: \"))\n",
        "i = 1\n",
        "print(\"Neon Numbers are : \")\n",
        "while i <= limit:\n",
        "  if(NeonNumber(i)):\n",
        "    print(i)\n",
        "  i += 1"
      ]
    },
    {
      "cell_type": "code",
      "source": [
        "# 1B) Write a menu driven code that will perform below tasks(use function for each task). Call\n",
        "# appropriate function.\n",
        "# -Input list of student name and total marks of students and find highest marks\n",
        "# -Input student name: hobby for n students.\n",
        "dict_marks = {}\n",
        "dict_hobby = {}\n",
        "n = int(input(\"Enter the number of students :\"))\n",
        "for i in range (n):\n",
        "    name = input(\"Enter name :\")\n",
        "    marks = input(\"Enter marks :\")\n",
        "    hobby = input(\"Enter hobby :\")\n",
        "    dict_marks[name] = marks\n",
        "    dict_hobby[name] = hobby\n",
        "\n",
        "# marks \n",
        "list1 = sorted(dict_marks.values())\n",
        "list_marks = sorted(list1)\n",
        "print( \"The highest marks stored in the class is : \" ,list_marks[n-1])\n",
        "\n",
        "st_name = input(\"Enter student name :\")\n",
        "if st_name in dict_hobby:\n",
        "    print( \"The Popular hobby is :\" ,dict_hobby[st_name])\n",
        "else:\n",
        "    print(\"Student not in data base\")"
      ],
      "metadata": {
        "colab": {
          "base_uri": "https://localhost:8080/"
        },
        "id": "c6gre6ptn3Hm",
        "outputId": "8debc136-7886-499a-f12d-dfccdb9f5517"
      },
      "execution_count": 2,
      "outputs": [
        {
          "output_type": "stream",
          "name": "stdout",
          "text": [
            "Enter the number of students :3\n",
            "Enter name :Pratham\n",
            "Enter marks :99\n",
            "Enter hobby :swimming\n",
            "Enter name :niharika\n",
            "Enter marks :90\n",
            "Enter hobby :dancing\n",
            "Enter name :vedant\n",
            "Enter marks :85\n",
            "Enter hobby :running\n",
            "The highest marks stored in the class is :  99\n",
            "Enter student name :Yash\n",
            "Student not in data base\n"
          ]
        }
      ]
    },
    {
      "cell_type": "code",
      "source": [
        "# 2. Scenario-: Use functions to calculate the trip&#39;s costs:\n",
        "# - Define a function called hotel_cost with one argument nights as input.\n",
        "# The hotel costs Rs.140 per night. So, the function hotel_cost should returns 140 * nights.\n",
        "# - Define a function called plane_ride_cost that takes a string, city, as input.\n",
        "# The function should return a different price depending on the location.\n",
        "# Below are the valid destinations and their corresponding round-trip prices.\n",
        "# o &quot;Charlotte&quot;: 183, &quot;Tampa&quot;: 220, &quot;Pittsburgh&quot;: 222, &quot;Los Angeles&quot;: 475\n",
        "# - Below your existing code, define a function called rental_car_cost with an argument\n",
        "# called days. Calculate the cost of renting the car: Every day you rent the car costs\n",
        "# Rs.40.(cost=40*days)\n",
        "# If you rent the car for 7 or more days, you get Rs.50 off your total(cost-=50).\n",
        "# Alternatively (elif), if you rent the car for 3 or more days, you get Rs.20 off your total.\n",
        "# You cannot get both of the above discounts. Return that cost.\n",
        "\n",
        "# - Then, define a function called trip_cost that takes two arguments, city and days.\n",
        "# From your function trip_cost return the sum of calling the rental_car_cost(days),\n",
        "# hotel_cost(days), and plane_ride_cost(city) functions.\n",
        "\n",
        "\n",
        "import random\n",
        "def hotel_cost(nights):\n",
        "    return \"The hotel cost will be \"+ str(nights*140)\n",
        "\n",
        "def plane_ride_cost(city):\n",
        "    return \"The Plane cost for \"+ city + \" is \" + str(random.randint(5000, 15000))\n",
        "\n",
        "def car_rent_cost(days):\n",
        "    discount = 50\n",
        "    if(int(days//7) > 0):\n",
        "        discount = discount * int(days//7)\n",
        "        print( \"The car rent cost is :\" ,(days*40) - discount)\n",
        "    elif(days < 3):\n",
        "        print( \"The car rent cost is :\" ,days*40)\n",
        "    elif(3 < days < 7):\n",
        "        print( \"The car rent cost is :\" ,(days*40) - 20)\n",
        "\n",
        "def trip_cost(city, nights, days):\n",
        "    print(hotel_cost(nights))\n",
        "    print(plane_ride_cost(city))\n",
        "    car_rent_cost(days)\n",
        "\n",
        "nights = int(input(\"Enter the nights you want to stay : \"))\n",
        "city = input(\"Enter the city : \")\n",
        "days = int(input(\"Enter the number of days : \"))\n",
        "trip_cost(city, nights, days)"
      ],
      "metadata": {
        "colab": {
          "base_uri": "https://localhost:8080/"
        },
        "id": "4wUUVv_IolsV",
        "outputId": "252f0846-e666-45e1-e5c6-d74d74ee4291"
      },
      "execution_count": 3,
      "outputs": [
        {
          "output_type": "stream",
          "name": "stdout",
          "text": [
            "Enter the nights you want to stay : 10\n",
            "Enter the city : LA\n",
            "Enter the number of days : 8\n",
            "The hotel cost will be 1400\n",
            "The Plane cost for LA is 9427\n",
            "The car rent cost is : 270\n"
          ]
        }
      ]
    },
    {
      "cell_type": "code",
      "source": [
        "# 3.Given a set of points in two dimensional plane as(x1,y1),(x2,y2),(x3,y3)……..(x|D|,y|D|).\n",
        "# Use suitable python data structure to store values of Age(X) and glucose level(Y) of a\n",
        "# person as given below .Write function lreg () to find the equation of best fit linear\n",
        "# regression line for above data points. Return regression coefficient w0 and w1 from\n",
        "# function. Predict the glucose level of a person with age as 39 yr.\n",
        "\n",
        "dict_patient = {}\n",
        "\n",
        "i = 1\n",
        "count = 0\n",
        "while(i != 0):\n",
        "    count += 1\n",
        "    age, glucose= int(input(\"Enter Age : \")), int(input(\"Enter Glucose level : \"))\n",
        "    dict_patient[age] = glucose\n",
        "    exit_num = int(input(\"Enter -1 to exit : \"))\n",
        "    if(exit_num == -1):\n",
        "        break\n",
        "\n",
        "headers = ['Age', 'Glocose']\n",
        "print(f'{headers[0]: <10}{headers[1]: <15}')\n",
        "for key, value in dict_patient.items():\n",
        "    print(f'{key: <10}{value: <15}')\n",
        "\n",
        "def summation_of_x(dict_patient):\n",
        "    s_of_x = 0\n",
        "    for i in dict_patient.keys():\n",
        "        s_of_x += i\n",
        "    return s_of_x\n",
        "\n",
        "def summation_of_y(dict_patient):\n",
        "    s_of_y = 0\n",
        "    for i in dict_patient.values():\n",
        "        s_of_y += i\n",
        "    return s_of_y\n",
        "\n",
        "def sqr_of_x(dict_patient):\n",
        "    sqr = 0\n",
        "    for i in dict_patient.keys():\n",
        "        sqr += (i*i)\n",
        "    return sqr\n",
        "\n",
        "def sqr_of_y(dict_patient):\n",
        "    sqr = 0\n",
        "    for i in dict_patient.values():\n",
        "        sqr += (i*i)\n",
        "    return sqr\n",
        "\n",
        "def x_into_y(dict_patient):\n",
        "    mul = 0\n",
        "    for i in dict_patient.items():\n",
        "        mul += (i[0] * i[1])\n",
        "    return mul\n",
        "\n",
        "def coefficient_of_b(x1, y1, x2, y2, x_x_y, count):\n",
        "    return ((count*x_x_y)-(x1*y1))/((count*x2)-(x1**2))\n",
        "\n",
        "def coefficient_of_a(x1, y1, x2, y2, x_x_y, count):\n",
        "    return ((count*x_x_y)-(x1*y1))/((count*y2)-(y1**2))\n",
        "\n",
        "def lreg(dict_patient):\n",
        "    x1 = summation_of_x(dict_patient)\n",
        "    # print(x1)\n",
        "    y1 = summation_of_y(dict_patient)\n",
        "    # print(y1)\n",
        "    x2 = sqr_of_x(dict_patient)\n",
        "    # print(x2)\n",
        "    y2 = sqr_of_y(dict_patient)\n",
        "    # print(y2)\n",
        "    x_x_y = x_into_y(dict_patient)\n",
        "    # print(x_x_y)\n",
        "    result1 = coefficient_of_b(x1, y1, x2, y2, x_x_y, count)\n",
        "    print( \"The B's coefficient is :\" ,result1)\n",
        "    result2 = coefficient_of_a(x1, y1, x2, y2, x_x_y, count)\n",
        "    print( \"The A's coefficient is :\" ,result2)\n",
        "\n",
        "lreg(dict_patient)"
      ],
      "metadata": {
        "colab": {
          "base_uri": "https://localhost:8080/"
        },
        "id": "GPOXy_noo1hB",
        "outputId": "baa778dd-9ce6-405e-9824-671e57fbb013"
      },
      "execution_count": 4,
      "outputs": [
        {
          "output_type": "stream",
          "name": "stdout",
          "text": [
            "Enter Age : 20\n",
            "Enter Glucose level : 80\n",
            "Enter -1 to exit : 1\n",
            "Enter Age : 50\n",
            "Enter Glucose level : 70\n",
            "Enter -1 to exit : -1\n",
            "Age       Glocose        \n",
            "20        80             \n",
            "50        70             \n",
            "The B's coefficient is : -0.3333333333333333\n",
            "The A's coefficient is : -3.0\n"
          ]
        }
      ]
    },
    {
      "cell_type": "code",
      "source": [],
      "metadata": {
        "id": "Jkjm0FIHo-9R"
      },
      "execution_count": null,
      "outputs": []
    },
    {
      "cell_type": "code",
      "source": [
        "# 4. Consider a “Random Game”. Here, out of the list of Choosing_number =[1,2,3,4,5,6,7,8,9].\n",
        "# To play the game, user will do the following task:\n",
        "# a) Select a random integer from the above list between 2 to 9.\n",
        "# b) Filter the number less than the above selected numbers excluding originally selected\n",
        "# number\n",
        "# c) Prepare a new list using map() where number less than the above selected numbers\n",
        "# will be multiplied by 10.\n",
        "# d) Then using reduce(), find sum of all these multiplied values of new list.\n",
        "# e) On selected sum the user will get some valuable hamper: (use dictionary)\n",
        "# If the sum is less than equal to 50, user will get hamper1.\n",
        "# If the sum is less than equal to 100, user will get hampe2.\n",
        "# If the sum is less than equal to 150, user will get hamper3.\n",
        "# If the sum is less than equal to 360, user will get hamper4.\n",
        "\n",
        "\n",
        "import random\n",
        "import functools\n",
        "dict_gift = {\n",
        "    'hamper1' : 50,\n",
        "    'hamper2' : 100,\n",
        "    'hamper3' : 150,\n",
        "    'hamper4' : 200\n",
        "}\n",
        "# ra = random.randint(1, 10)\n",
        "ra = int(input(\"Enter a Lucky number between 2 to 9 : \"))\n",
        "print ( \"The selected number is\" ,ra)\n",
        "# num_fil = []\n",
        "# for i in range(1, ra):\n",
        "#   num_fil.append(i * 10)\n",
        "# # print (num_fil)\n",
        "lis = [i for i in range(1,10)]\n",
        "lis = list(filter(lambda x: x<ra, lis))\n",
        "num_fil = list(map(lambda x: x * 10, lis))\n",
        "sum = functools.reduce(lambda a, b : a+b, num_fil)\n",
        "# print (sum)\n",
        "if(sum <= 50):\n",
        "  print(\"Congratulation! you got\",dict_gift['hamper1'], \"rs discount.\")\n",
        "elif(50 < sum <= 100):\n",
        "  print(\"Congratulation! you got\",dict_gift['hamper2'], \"rs discount.\")\n",
        "elif(100 < sum <= 150):\n",
        "  print(\"Congratulation! you got\",dict_gift['hamper3'], \"rs discount.\")\n",
        "elif(150 < sum <= 360):\n",
        "  print(\"Congratulation! you got\",dict_gift['hamper4'], \"rs discount.\")"
      ],
      "metadata": {
        "colab": {
          "base_uri": "https://localhost:8080/"
        },
        "id": "bgp3rmDMo_HG",
        "outputId": "e4f8a654-6daf-4a98-ec5a-d0d2d6f44660"
      },
      "execution_count": 5,
      "outputs": [
        {
          "output_type": "stream",
          "name": "stdout",
          "text": [
            "Enter a Lucky number between 2 to 9 : 7\n",
            "The selected number is 7\n",
            "Congratulation! you got 200 rs discount.\n"
          ]
        }
      ]
    },
    {
      "cell_type": "code",
      "source": [
        "\"\"\"7. Using Recursion\n",
        "Consider you are given an array of integers ordered randomly. You are asked to check if the\n",
        "array is in ascending order, i.e., increasingly with the smallest number placed first and the\n",
        "other numbers following it. To implement a solution for this problem, given a string, we\n",
        "have first to calculate the length of the given array.\n",
        "As per recursive definition of an array, we consider 2 cases:\n",
        "Base case -\n",
        "a. Array of Length 0 - Empty Array (Need not be sorted)\n",
        "b. Array of Length 1 - Array with only one element (Already Sorted)\n",
        "In both these cases, we do not need to sort the array further, and thus return a True value.\n",
        "Recursive Case - This is triggered when our array has more than one element. So, we\n",
        "compare pairs of elements at each invocation of the recursive call and recursively call the\n",
        "next invocation as follows:\n",
        "arr[0] &lt;= arr [1] and isAscending(arr[1:])\n",
        "So, at the first invocation, the elements at positions 0 and 1 are compared, and\n",
        "the AND value of this and the comparison of the next elements of the array is returned.\n",
        "At the end of the unwinding phase, a True value is returned only if the entire array is in\n",
        "ascending order. Let us consider an array: 1, 2, 3, 4 5. The operations take place as follows:\n",
        " 1 &lt; = 2 and isAscending(2,3,4,5)\n",
        " True and 2&lt;=3 and isAscending(3,4,5)\n",
        " True and True and 3&lt;=4 and isAscending(4,5)\n",
        " True and True and True and 4&lt;=5 and True\n",
        " True\"\"\"\n",
        "\n",
        "def isAscending(a):\n",
        "    i = 0\n",
        "    if(len(a) <= 1):\n",
        "        return True\n",
        "    elif(i+1 < len(a)) and (a[i] <= a[i+1]):\n",
        "        i += 1\n",
        "        return True * isAscending(a[i:])\n",
        "    else:\n",
        "        return False\n",
        "    \n",
        "list1 = []\n",
        "n1 = int(input(\"Enter the size of list 1 : \"))\n",
        "i = 1000\n",
        "while(i != 0):\n",
        "    num = int(input(\"Enter -1 to exit \"))\n",
        "    if(num == -1):\n",
        "        break\n",
        "    print(\"Enter the element of list : \")\n",
        "    for i in range(n1):\n",
        "        ele = int(input())\n",
        "        list1.append(ele)\n",
        "    print(f'List 1: {list1}')\n",
        "    if(isAscending(list1)):\n",
        "        print(\"List is ascending\")\n",
        "    else:\n",
        "        print(\"List is not ascending\")\n",
        "    list1.clear()\n",
        "\n"
      ],
      "metadata": {
        "colab": {
          "base_uri": "https://localhost:8080/"
        },
        "id": "rQeu8UrrpFI2",
        "outputId": "41241150-c8b5-45a1-8595-5aa8b3e1bf3b"
      },
      "execution_count": 6,
      "outputs": [
        {
          "name": "stdout",
          "output_type": "stream",
          "text": [
            "Enter the size of list 1 : 5\n",
            "Enter -1 to exit 1\n",
            "Enter the element of list : \n",
            "1\n",
            "2\n",
            "3\n",
            "4\n",
            "5\n",
            "List 1: [1, 2, 3, 4, 5]\n",
            "List is ascending\n",
            "Enter -1 to exit 5\n",
            "Enter the element of list : \n",
            "2\n",
            "3\n",
            "1\n",
            "4\n",
            "5\n",
            "List 1: [2, 3, 1, 4, 5]\n",
            "List is not ascending\n",
            "Enter -1 to exit -1\n"
          ]
        }
      ]
    }
  ]
}