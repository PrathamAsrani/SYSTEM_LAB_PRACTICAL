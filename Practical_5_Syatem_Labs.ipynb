{
  "nbformat": 4,
  "nbformat_minor": 0,
  "metadata": {
    "colab": {
      "provenance": []
    },
    "kernelspec": {
      "name": "python3",
      "display_name": "Python 3"
    },
    "language_info": {
      "name": "python"
    }
  },
  "cells": [
    {
      "cell_type": "markdown",
      "source": [
        "# Name :      Pratham-Ashok-Asrani\n",
        "# Branch :    CSE_A\n",
        "# Roll No :   A-75\n"
      ],
      "metadata": {
        "id": "qs1fbO5PnCJ2"
      }
    },
    {
      "cell_type": "code",
      "execution_count": null,
      "metadata": {
        "id": "p4bo5YFC0rbn"
      },
      "outputs": [],
      "source": [
        "# Aim: To implement Modules, Classes and Files Handling Concepts in Python.\n",
        "# Aim-1:\n",
        "# Create and import module for calculation of hotel_bill\n",
        "# (module-1) which contains\n",
        "# Functions:\n",
        "# [Call Module-3 from Module-1 and Module-2 from Module-3] \n",
        "# (module-2)\n",
        "# Dictionary\n",
        "# D= {Dish: costperplate}\n",
        "# 1. To compute bill which accepts dish and number of plates and return total cost?\n",
        "# 2. Function to add GST with total cost and return amount with GST (12% without \n",
        "# discount amount)\n",
        "# 3. Also compute discount and return amount with discount\n",
        "#  If totalbill >2000 give 20% discount\n",
        "#  Otherwise give 5%\n",
        "# (module-3)\n",
        "# 4. Take hotel name as user input and write function to print bill\n",
        "# *******************************************************\n",
        "# HOTEL NAME\n",
        "# ********************************************************\n",
        "# Dishname: Qty:\n",
        "# -\n",
        "# -Total:\n",
        "# ***********************************************************\n",
        "# Discount:\n",
        "# Amount after discount:\n",
        "# ***********************************************************\n",
        "# GST:\n",
        "# **********************************************************\n",
        "# Payable Amount:\n",
        "# ***********************************************************\n",
        "# HAVE A NICE DAY\n"
      ]
    },
    {
      "cell_type": "code",
      "source": [
        "from google.colab import files\n",
        "# !cp /content/drive/MyDrive/module_2_hotel_bill_calc.py /content\n",
        "!cp /content/drive/MyDrive/module_3_hotel_bill_print.py /content"
      ],
      "metadata": {
        "id": "KRomLrFC1-3V"
      },
      "execution_count": null,
      "outputs": []
    },
    {
      "cell_type": "code",
      "source": [
        "# import module_2_hotel_bill_calc\n",
        "import module_3_hotel_bill_print as gb"
      ],
      "metadata": {
        "id": "0fyWpa5xy_25"
      },
      "execution_count": null,
      "outputs": []
    },
    {
      "cell_type": "code",
      "source": [
        "gb.Generate_bill()"
      ],
      "metadata": {
        "colab": {
          "base_uri": "https://localhost:8080/"
        },
        "id": "CQBrQL0gFEeg",
        "outputId": "04707b9c-188b-4ce9-b381-7a8ae334be65"
      },
      "execution_count": null,
      "outputs": [
        {
          "output_type": "stream",
          "name": "stdout",
          "text": [
            "Enter Your Hotel Name : Rasidon Blu\n",
            "Enter the number of dishes : 2\n",
            "Enter dish no. 1 : Shahi Pulao\n",
            "Enter number of dish : 7\n",
            "Enter dish no. 2 : chili panner\n",
            "Enter number of dish : 2\n",
            "\n",
            "********************************************************\n",
            "HOTEL NAME                               Rasidon Blu\n",
            "********************************************************\n",
            "  \n",
            "Dishname: \t\t\t\t(Qty):\n",
            "Shahi Pulao\t\t\t\t7.00\n",
            "chili panner\t\t\t\t2.00\n",
            "The total cost : \t\t\t880.00\n",
            "The discounted price is : \t\t41.00\n",
            "Amount after discount : \t\t836.00\n",
            "********************************************************\n",
            "GST: \t\t\t\t\t150.00\n",
            "********************************************************\n",
            "GST: \t\t\t\t\t986.00\n",
            "********************************************************\n",
            "HAVE A NICE DAY\n"
          ]
        }
      ]
    },
    {
      "cell_type": "code",
      "source": [
        "'''\n",
        "Aim-2:\n",
        "Create a Python class called BankAccount which represents a bank account,\n",
        "having as attributes: accountNumber (numeric type), name (name of the\n",
        "account owner as string type), balance.\n",
        "o Create a constructor with parameters: accountNumber, name,\n",
        "balance.\n",
        "o Create a Deposit() method which manages the deposit actions.\n",
        "o Create a Withdrawal() method  which manages withdrawals actions.\n",
        "o Create an bankFees() method to apply the bank fees with a\n",
        "percentage of\n",
        "o 5% of the balance account.\n",
        "o Create a display() method to display account details.\n",
        "o Give the complete code for the  BankAccount class.\n",
        "o Create sub class UPI_account with attribute UPI_ID\n",
        "(account_holder_name@bankname).\n",
        "o Create a display() method (method overriding) to display UPI account\n",
        "details.\n",
        "'''"
      ],
      "metadata": {
        "id": "w7zQ79fJGD2r"
      },
      "execution_count": null,
      "outputs": []
    },
    {
      "cell_type": "code",
      "source": [
        "from os import name\n",
        "class BankAccount:\n",
        "  accountNumber = 0\n",
        "  name = \"\"\n",
        "  balance = 0\n",
        "  # constructor for object variable : parameter\n",
        "  def __init__(self, accNum, nam, bal):\n",
        "    self.name = nam\n",
        "    self.accountNumber= accNum\n",
        "    self.balance= bal\n",
        "  # Transaction  charges func :\n",
        "  def TransactionCharges(self):\n",
        "    value = 80 # for per deposit and withdraw a fees equivalent to (1 usd)80rs got deducted\n",
        "    self.balance -= value\n",
        "  # deposit method\n",
        "  def deposit(self):\n",
        "    amount = int(input(\"Enter amount you want to deposit : \"))\n",
        "    self.balance += amount\n",
        "    self.TransactionCharges()\n",
        "  # withdraw method\n",
        "  def withdraw(self):\n",
        "    amount = int(input(\"Enter amount you want to deposit : \"))\n",
        "    self.balance -= amount\n",
        "    self.TransactionCharges()\n",
        "  # output : \n",
        "  def __str__(self):\n",
        "    return f\"Name : {self.name}\\nAccount Number : {self.accountNumber}\\nBalance : {self.balance}\"\n",
        "  def hello(self):\n",
        "    print(\"Hello World!\")\n",
        "\n",
        "class UPI_account(BankAccount):\n",
        "  bankName = \"\"\n",
        "  upi = \"\"\n",
        "  def __init__(self, accNum, nam, bal, upi):\n",
        "    super().__init__(accNum, nam, bal)\n",
        "    if(\" \" in nam):\n",
        "        first_name = nam.split()\n",
        "    self.upi = str(first_name[0])+\"@\"+str(upi)\n",
        "    \n",
        "  def __str__(self):\n",
        "    return f\"Your UPI id : {self.upi}\"\n",
        "\n",
        "obj1 = BankAccount(543102010025623, \"Pratham Ashok Asrani\", 10000000)\n",
        "print(obj1)\n",
        "obj1.deposit()\n",
        "print(obj1)\n",
        "obj1.withdraw()\n",
        "print(obj1)\n",
        "# obj1.hello()\n",
        "obj2 = UPI_account(543102010025623, \"Pratham Ashok Asrani\", 10000000, \"hdfc\")\n",
        "print(obj2)\n"
      ],
      "metadata": {
        "colab": {
          "base_uri": "https://localhost:8080/"
        },
        "id": "RpmP-hdQiD0J",
        "outputId": "1fd933e8-8ffa-49fa-f9ae-cdcd61d61a21"
      },
      "execution_count": null,
      "outputs": [
        {
          "output_type": "stream",
          "name": "stdout",
          "text": [
            "Name : Pratham Ashok Asrani\n",
            "Account Number : 543102010025623\n",
            "Balance : 10000000\n",
            "Enter amount you want to deposit : 100000\n",
            "Name : Pratham Ashok Asrani\n",
            "Account Number : 543102010025623\n",
            "Balance : 10099920\n",
            "Enter amount you want to deposit : 50000\n",
            "Name : Pratham Ashok Asrani\n",
            "Account Number : 543102010025623\n",
            "Balance : 10049840\n",
            "Your UPI id : Pratham@hdfc\n"
          ]
        }
      ]
    },
    {
      "cell_type": "code",
      "source": [
        "# Aim-3:\n",
        "# Write a program that reads a file and performs the following tasks:\n",
        "# a. Count and display the term frequencies of all the words [exclude stop words \n",
        "# like- the, a, and] and find the keyword for the document & write the output in \n",
        "# a separate file.\n",
        "# b. Now read the file created in a. .Your program should convert all the input to \n",
        "# lowercase & display the updated count.\n"
      ],
      "metadata": {
        "id": "O2-GBhbyiNpa"
      },
      "execution_count": null,
      "outputs": []
    },
    {
      "cell_type": "code",
      "source": [
        "from google.colab import drive\n",
        "drive.mount('/content/drive')"
      ],
      "metadata": {
        "id": "QbfumInhykc2"
      },
      "execution_count": null,
      "outputs": []
    },
    {
      "cell_type": "code",
      "source": [
        "\n",
        "file = open(\"/content/drive/MyDrive/txt.txt\", \"r\")\n",
        "# print(file.read())\n",
        "\n",
        "newfile = open(\"Keyword.txt\", \"w\")\n",
        "newfile.close()\n",
        "dict_count = {}\n",
        "def newFileKeyword(word):\n",
        "    newfile = open(\"Keyword.txt\", \"a\")\n",
        "    newfile.write(word+\"\\n\")\n",
        "\n",
        "for i in file: # accessing each line\n",
        "    i = i.strip() # extra outside space will be eliminated\n",
        "    i = i.lower() # converting to lower case for better management\n",
        "    all_words = i.split() # removing in between spaces, all words of each line is stored, list is created\n",
        "    for word in all_words:\n",
        "        if(word == \"apple\") or (word == \"microsoft\") or (word == \"windows\"):\n",
        "            newFileKeyword(word)\n",
        "        if word in dict_count:\n",
        "            dict_count[word] = dict_count[word]+1 # if word is already present in \n",
        "        else:\n",
        "            dict_count[word] = 1\n",
        "count = 1\n",
        "for key in list(dict_count.keys()):\n",
        "    print(key, \":\", dict_count[key], end = \"\\t\")\n",
        "    if(count%10 == 0):\n",
        "      print(\"\\n\\t\")\n",
        "    count += 1\n"
      ],
      "metadata": {
        "id": "gxCPEXlLiuNr",
        "colab": {
          "base_uri": "https://localhost:8080/"
        },
        "outputId": "b35ce8d9-41bf-413e-90a2-de893421fb92"
      },
      "execution_count": null,
      "outputs": [
        {
          "output_type": "stream",
          "name": "stdout",
          "text": [
            "what : 1\tis : 3\ta : 5\ttxt : 4\tfile? : 1\tfile : 2\tstandard : 2\ttext : 3\tdocument : 2\tthat : 3\t\n",
            "\t\n",
            "contains : 2\tplain : 2\ttext. : 2\tit : 1\tcan : 1\tbe : 1\topened : 1\tand : 3\tedited : 1\tin : 1\t\n",
            "\t\n",
            "any : 1\ttext-editing : 1\tor : 1\tword-processing : 1\tprogram. : 1\tfiles : 1\tare : 2\tmost : 1\toften : 1\tcreated : 1\t\n",
            "\t\n",
            "by : 1\tmicrosoft : 1\tnotepad : 1\tapple : 1\ttextedit, : 1\twhich : 1\tbasic : 1\teditors : 1\tcome : 1\tbundled : 1\t\n",
            "\t\n",
            "with : 1\twindows : 1\tmacos, : 1\trespectively. : 1\t"
          ]
        }
      ]
    },
    {
      "cell_type": "code",
      "source": [
        "'''Aim-4:\n",
        "Create a file containing the given data. write a code to answer the following questions:\n",
        "a. Read a file and Create a dictionary contains information of no. of lines\n",
        "and no. of words in the file.\n",
        "b. Find all the days of a week present in the file and create a list of it.\n",
        "c. Read a file and create a dictionary contains country name and their occurrences in \n",
        "the file.\n",
        "TEXT: Harnoor Singh struck a fine hundred before the Indian bowlers ran \n",
        "through the opposition to complete a 154-run rout of UAE in their \n",
        "opening U19 Asia Cup match on Thursday. Put in to bat, India put up 282 \n",
        "for five, courtesy Harnoor's 120 off 130 balls and skipper Yash Dhull's \n",
        "63 off 68 balls. Rajvardhan Hangargekar's unbeaten 48 off 23 balls \n",
        "provided the final flourish.\n",
        "UAE used as many as nine bowling options at the ICC Academy Ground but \n",
        "the move did not help their cause.\n",
        "The home team's batters came a cropper against the Indian bowling line \n",
        "up, folding up for 128 in 34.3 overs.\n",
        "Hangargekar took three wickets for India while Garv Sangwan, Vicky \n",
        "Oswal and Kaushal Tamble took two each.\n",
        "India next play arch-rivals Pakistan on Saturday.\n",
        "In the other matches played on Thursday, Pakistan beat Afghanistan by \n",
        "four wickets and Sri Lanka hammered Kuwait by 274 runs.\n",
        "Listen to the latest songs, only on JioSaavn.com\n",
        "The tournament is being played ahead of the U-19 World Cup in the West \n",
        "Indies next month'''"
      ],
      "metadata": {
        "id": "tJH8hLzH15Dx"
      },
      "execution_count": null,
      "outputs": []
    },
    {
      "cell_type": "code",
      "source": [
        "from google.colab import drive\n",
        "drive.mount('/content/drive')"
      ],
      "metadata": {
        "colab": {
          "base_uri": "https://localhost:8080/"
        },
        "id": "Z4TQGoAe2KeZ",
        "outputId": "7711347a-e2ef-4095-ea4e-0cbd1fbb9ff9"
      },
      "execution_count": null,
      "outputs": [
        {
          "output_type": "stream",
          "name": "stdout",
          "text": [
            "Drive already mounted at /content/drive; to attempt to forcibly remount, call drive.mount(\"/content/drive\", force_remount=True).\n"
          ]
        }
      ]
    },
    {
      "cell_type": "code",
      "source": [
        "# please delete the content of the file first after then execute, otherwise txt will be avaliable two times\n",
        "Aim_4_file = open(\"Aim_4_file.txt\", \"w\")\n",
        "str_content = '''Harnoor Singh struck a fine hundred before the Indian bowlers ran \n",
        "through the opposition to complete a 154-run rout of UAE in their \n",
        "opening U19 Asia Cup match on Thursday. Put in to bat, India put up 282 \n",
        "for five, courtesy Harnoor's 120 off 130 balls and skipper Yash Dhull's \n",
        "63 off 68 balls. Rajvardhan Hangargekar's unbeaten 48 off 23 balls \n",
        "provided the final flourish.\n",
        "UAE used as many as nine bowling options at the ICC Academy Ground but \n",
        "the move did not help their cause.\n",
        "The home team's batters came a cropper against the Indian bowling line \n",
        "up, folding up for 128 in 34.3 overs.\n",
        "Hangargekar took three wickets for India while Garv Sangwan, Vicky \n",
        "Oswal and Kaushal Tamble took two each.\n",
        "India next play arch-rivals Pakistan on Saturday.\n",
        "In the other matches played on Thursday, Pakistan beat Afghanistan by \n",
        "four wickets and Sri Lanka hammered Kuwait by 274 runs.\n",
        "Listen to the latest songs, only on JioSaavn.com\n",
        "The tournament is being played ahead of the U-19 World Cup in the West \n",
        "Indies next month'''\n",
        "Aim_4_file.write(str_content)\n"
      ],
      "metadata": {
        "id": "5K4nSn6i2USP"
      },
      "execution_count": null,
      "outputs": []
    },
    {
      "cell_type": "code",
      "source": [
        "# Part2 : AIM_4 to avoid copying of data\n",
        "Aim_4_file.close()\n",
        "Aim_4_file = open(\"Aim_4_file.txt\", \"r\")\n",
        "word_count = 0\n",
        "line_count = 0\n",
        "week_days = []\n",
        "dict_country = {}\n",
        "for i in Aim_4_file:\n",
        "  line_count += 1\n",
        "  i = i.lower()\n",
        "  i = i.strip()\n",
        "  words = i.split()\n",
        "  count = 1 \n",
        "  for word in words:\n",
        "    word_count += 1\n",
        "    count += 1\n",
        "    if(\"monday\" in word) or (\"tuesday\" in word) or (\"wednesday\" in word) or (\"thursday\" in word) or (\"friday\" in word) or (\"saturday\" in word) or (\"sunday\" in word):\n",
        "      week_days.append(word)\n",
        "    elif((\"uae\" in word) or (word == \"india\") or (\"pakistan\" in word) or (\"afghanistan\" in word) or (\"kuwait\" in word)):\n",
        "      if(word in dict_country):\n",
        "        dict_country[word] : dict_country[word] + 1\n",
        "      else:\n",
        "        dict_country[word] = 1\n",
        "    elif((\"sri\" in word) and (\"lanka\" in words[count])):\n",
        "      new_commer = \"sri lanka\"\n",
        "      if(new_commer in dict_country):\n",
        "        dict_country[new_commer] : dict_country[new_commer] + 1\n",
        "      else:\n",
        "        dict_country[new_commer] = 1\n",
        "\n",
        "print(\"The line count is\",line_count)\n",
        "print(\"The word count is\",word_count)\n",
        "print(\"The week list :\", week_days)\n",
        "print(\"The countries dict is :\", dict_country)\n"
      ],
      "metadata": {
        "colab": {
          "base_uri": "https://localhost:8080/"
        },
        "id": "o3clBFtb3xN4",
        "outputId": "7c20b3bd-a61e-4f7b-fbeb-9caf8d8277ef"
      },
      "execution_count": null,
      "outputs": [
        {
          "output_type": "stream",
          "name": "stdout",
          "text": [
            "The line count is 18\n",
            "The word count is 176\n",
            "The week list : ['thursday.', 'saturday.', 'thursday,']\n",
            "The countries dict is : {'uae': 1, 'india': 1, 'pakistan': 1, 'afghanistan': 1, 'kuwait': 1}\n"
          ]
        }
      ]
    },
    {
      "cell_type": "code",
      "source": [
        "'''Aim-5:\n",
        "A. Create a function “wt_tr_data” to store information (train_no, train_name, train_type, \n",
        "source, and destination) of a trains running in the western region into a file \n",
        "“west_train_details.txt”.\n",
        "B.Using the file “west_train_details.txt”, create a function “train details” to take train no. as \n",
        "an argument and returns the train details in a proper format.'''"
      ],
      "metadata": {
        "id": "-a4jDE98WAWr"
      },
      "execution_count": null,
      "outputs": []
    },
    {
      "cell_type": "code",
      "source": [
        "# creating file\n",
        "train = open(\"west_train_details.txt\", \"x\")\n",
        "train.close()"
      ],
      "metadata": {
        "id": "FLZIrNhBYDyI"
      },
      "execution_count": null,
      "outputs": []
    },
    {
      "cell_type": "code",
      "source": [
        "train_file = open(\"west_train_details.txt\", \"w\")\n",
        "train_no = 0\n",
        "train_name = \"\"\n",
        "train_type = \"\"\n",
        "source = \"\"\n",
        "destination = \"\"\n",
        "\n",
        "# row = \" - {:<20} {:<20} {:<20} {:<20} {:<20}\".format(train_no, train_name, train_type, source, destination)\n",
        "# train_file.write(row)\n",
        "train_file.write(\"Train Number\\tTrain Name\\tTrain Type\\tsource station\\tdestination station\\n\")\n",
        "\n",
        "def wt_tr_data():\n",
        "  train_no = int(input(\"Enter Train no. : \"))\n",
        "  train_name = input(\"Enter Train name : \")\n",
        "  train_type = input(\"Enter train type : \")\n",
        "  source = input(\"Enter source station : \")\n",
        "  destination = input(\"Enter destination station : \")\n",
        "  train_file.write((str(train_no))+\"\\t\\t\"+train_name+\"\\t\"+train_type+\"\\t\"+source+\"\\t\\t\"+destination+\"\\n\")\n",
        "n = int(input(\"Enter the number of trains : \"))\n",
        "while (n != 0):\n",
        "  wt_tr_data()\n",
        "  n -= 1\n",
        "\n",
        "# Ideal Input : 2\n",
        "# 41231\t\tDuoranto\tPassenger\tvishakhapatnam\tCSMT\n",
        "# 12621\t\tTamil Nadu Exp\tPassenger\tDelhi\tChennai\n",
        "train_file.close()\n",
        "\n"
      ],
      "metadata": {
        "colab": {
          "base_uri": "https://localhost:8080/",
          "height": 0
        },
        "id": "Uy3syG9vWRML",
        "outputId": "702e2ef4-8da7-43cf-d8d9-76cfbcfbcc06"
      },
      "execution_count": 1,
      "outputs": [
        {
          "name": "stdout",
          "output_type": "stream",
          "text": [
            "Enter the number of trains : 2\n",
            "Enter Train no. : 41231\n",
            "Enter Train name : Duoranto\n",
            "Enter train type : Passenger\n",
            "Enter source station : vishakhapatnam\n",
            "Enter destination station : CSMT\n",
            "Enter Train no. : 12621\n",
            "Enter Train name : Tamil Nadu Exp\n",
            "Enter train type : Passenger\n",
            "Enter source station : Delhi\n",
            "Enter destination station : Chennai\n"
          ]
        }
      ]
    },
    {
      "cell_type": "code",
      "source": [
        "train_file = open(\"west_train_details.txt\", \"r\")\n",
        "for i in train_file:\n",
        "  print(i)"
      ],
      "metadata": {
        "colab": {
          "base_uri": "https://localhost:8080/",
          "height": 0
        },
        "id": "9XuhtnebmLh9",
        "outputId": "b8125b0e-6dda-48db-fd69-0cc917bf9a2e"
      },
      "execution_count": 3,
      "outputs": [
        {
          "output_type": "stream",
          "name": "stdout",
          "text": [
            "Train Number\tTrain Name\tTrain Type\tsource station\tdestination station\n",
            "\n",
            "41231\t\tDuoranto\tPassenger\tvishakhapatnam\tCSMT\n",
            "\n",
            "12621\t\tTamil Nadu Exp\tPassenger\tDelhi    \tChennai\n",
            "\n"
          ]
        }
      ]
    }
  ]
}