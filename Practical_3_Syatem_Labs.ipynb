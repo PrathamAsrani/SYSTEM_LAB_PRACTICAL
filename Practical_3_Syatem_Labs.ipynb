{
  "nbformat": 4,
  "nbformat_minor": 0,
  "metadata": {
    "colab": {
      "provenance": []
    },
    "kernelspec": {
      "name": "python3",
      "display_name": "Python 3"
    },
    "language_info": {
      "name": "python"
    }
  },
  "cells": [
    {
      "cell_type": "markdown",
      "source": [
        "# Pratham-Ashok-Asrani_A-75"
      ],
      "metadata": {
        "id": "64HhlGjnofVt"
      }
    },
    {
      "cell_type": "code",
      "execution_count": null,
      "metadata": {
        "colab": {
          "base_uri": "https://localhost:8080/"
        },
        "id": "zFaQ_38FoeLi",
        "outputId": "849dc4fb-7de6-438b-afc4-2df0a877431a"
      },
      "outputs": [
        {
          "output_type": "stream",
          "name": "stdout",
          "text": [
            "Concating the dictionarie 1 into 2\n",
            "{6: 'six', 7: 'seven', 8: 'eight', 9: 'nine', 10: 'ten', 1: 'one', 2: 'two', 3: 'three', 4: 'four', 5: 'five'}\n",
            "Concating the dictionarie 2 into 1\n",
            "{1: 'one', 2: 'two', 3: 'three', 4: 'four', 5: 'five', 6: 'six', 7: 'seven', 8: 'eight', 9: 'nine', 10: 'ten'}\n"
          ]
        }
      ],
      "source": [
        "# 1. Write a python program to Concatenate two Dictionaries into one.\n",
        "def Concatenate(d1, d2):\n",
        "  print(\"Concating the dictionarie 1 into 2\")\n",
        "  d2.update(d1)\n",
        "  print(dict2)\n",
        "  print(\"Concating the dictionarie 2 into 1\")\n",
        "  d1.update(d2)\n",
        "  print(dict1)\n",
        "dict1 = {1 : 'one', 2 : 'two', 3 : 'three', 4 : 'four', 5 : 'five'}\n",
        "dict2 = {6 : 'six', 7 : 'seven', 8 : 'eight', 9 : 'nine', 10 : 'ten'}\n",
        "\n",
        "Concatenate(dict1, dict2)\n"
      ]
    },
    {
      "cell_type": "code",
      "source": [
        "# 2. Write a python program to concatenate three Dictionaries into one empty dictionary\n",
        "def Concatenate(d1, d2, d3, d4):\n",
        "  print(\"Concating the dictionarie 1 into 2\")\n",
        "  d4.update(d1)\n",
        "  d4.update(d2)\n",
        "  d4.update(d3)\n",
        "  return d4\n",
        "\n",
        "dict1 = {1 : 'one', 2 : 'two', 3 : 'three', 4 : 'four', 5 : 'five'}\n",
        "dict2 = {6 : 'six', 7 : 'seven', 8 : 'eight', 9 : 'nine', 10 : 'ten'}\n",
        "dict3 = {'A' : 'apple', 'B' : 'Banana', 'C' : 'Cherry'}\n",
        "dict4 = {}\n",
        "\n",
        "result = Concatenate(dict1, dict2, dict3, dict4)\n",
        "print(result)"
      ],
      "metadata": {
        "colab": {
          "base_uri": "https://localhost:8080/"
        },
        "id": "tsX0xDNNrG1n",
        "outputId": "56826bc7-d5b9-440e-eb85-e810f8e9353a"
      },
      "execution_count": null,
      "outputs": [
        {
          "output_type": "stream",
          "name": "stdout",
          "text": [
            "Concating the dictionarie 1 into 2\n",
            "{1: 'one', 2: 'two', 3: 'three', 4: 'four', 5: 'five', 6: 'six', 7: 'seven', 8: 'eight', 9: 'nine', 10: 'ten', 'A': 'apple', 'B': 'Banana', 'C': 'Cherry'}\n"
          ]
        }
      ]
    },
    {
      "cell_type": "code",
      "source": [
        "# 3. Write a python program to Create a dictionary in python , append elements in the dictionary and remove the given\n",
        "# Key from a Dictionary.\n",
        "dict_num = {}\n",
        "value = 100\n",
        "for x in range (1, 11):\n",
        "  dict_num[x] = value\n",
        "  value += 100\n",
        "print(\"Original dict : \")\n",
        "print(dict_num)\n",
        "print(\"\\n\")\n",
        "key = int(input(\"Enter the key you want to remove : \"))\n",
        "pop_element = dict_num.pop(key)\n",
        "print(\"Updated dict : \")\n",
        "print(dict_num)"
      ],
      "metadata": {
        "colab": {
          "base_uri": "https://localhost:8080/"
        },
        "id": "ewkuuJf_soHv",
        "outputId": "00ebb5af-848b-4496-bd82-5b6f0dbbf5ff"
      },
      "execution_count": null,
      "outputs": [
        {
          "output_type": "stream",
          "name": "stdout",
          "text": [
            "Original dict : \n",
            "{1: 100, 2: 200, 3: 300, 4: 400, 5: 500, 6: 600, 7: 700, 8: 800, 9: 900, 10: 1000}\n",
            "\n",
            "\n",
            "Enter the key you want to remove : 6\n",
            "Updated dict : \n",
            "{1: 100, 2: 200, 3: 300, 4: 400, 5: 500, 7: 700, 8: 800, 9: 900, 10: 1000}\n"
          ]
        }
      ]
    },
    {
      "cell_type": "code",
      "source": [
        "# 4. Write a Python program to create a dictionary of keys x, y, and z where each key has as value a list from 11-20, 21-\n",
        "# 30, and 31-40 respectively. Access the fifth value of each key from the dictionary.\n",
        "dict1 = {\n",
        "    'x' : [11, 12, 13, 14, 15, 16, 17, 18, 19, 20],\n",
        "    'y' : [21, 22, 23, 24, 25, 26, 27, 28, 29, 30],\n",
        "    'z' : [31, 32, 33, 34, 35, 36, 37, 38, 39, 40]\n",
        "}\n",
        "# accessijng ficeth element of the dict key\n",
        "index_value = 4 # fifth element index is 4\n",
        "print(\"The fifth value of the each element in dictionary is : \")\n",
        "for i in dict1:\n",
        "  print(dict1[i][index_value])"
      ],
      "metadata": {
        "colab": {
          "base_uri": "https://localhost:8080/"
        },
        "id": "fzoyjLRBt5ER",
        "outputId": "f1032369-a6e8-4f72-a894-317cb4086b99"
      },
      "execution_count": null,
      "outputs": [
        {
          "output_type": "stream",
          "name": "stdout",
          "text": [
            "The fifth value of the each element in dictionary is : \n",
            "15\n",
            "25\n",
            "35\n"
          ]
        }
      ]
    },
    {
      "cell_type": "code",
      "source": [
        "# 5. Write a program to input your friend’s names and their Phone Numbers and store them in the dictionary as the key-\n",
        "# value pair.\n",
        "# Perform the following operations on the dictionary:\n",
        "# a) Display the name and phone number of all your friends\n",
        "# b) Add a new key-value pair in this dictionary and display the modified dictionary\n",
        "# c) Delete a particular friend from the dictionary\n",
        "# d) Modify the phone number of an existing friend\n",
        "# e) Check if a friend is present in the dictionary or not\n",
        "# f) Display the dictionary in sorted order of names\n",
        "\n",
        "dict_friend = {}\n",
        "for i in range (3):\n",
        "  name = input(\"Enter name : \")\n",
        "  contact_number = input(\"Enter contact_number : \")\n",
        "  dict_friend[name] = contact_number\n",
        "print(\"\\nThe contact list : \")\n",
        "print(dict_friend) # a completed\n",
        "\n",
        "name = input(\"\\nEnter name you want to add in contact list : \")\n",
        "contact_number = input(\"Enter contact_number : \")\n",
        "dict_friend[name] = contact_number\n",
        "print(\"Updated dict : \")\n",
        "print(dict_friend) # b completed\n",
        "\n",
        "key = input(\"\\nEnter name you want to delete for the dict : \")\n",
        "pop_element = dict_friend.pop(key)\n",
        "print(\"7Deleted the entered key\\nThe Dict now : \")\n",
        "print(dict_friend) # c completed\n",
        "\n",
        "key_name = input('\\nEnter the name of friend you want to change the number : ')\n",
        "new_number = int(input(\"Enter the number : \"))\n",
        "dict_friend[key_name] = new_number\n",
        "print(dict_friend) # d completed\n",
        "\n",
        "key_find = input(\"\\nEnter name you want to find : \")\n",
        "if key_find in dict_friend:\n",
        "  print(\"the number of\",key_find,\"is\", dict_friend[key_find])\n",
        "else:\n",
        "  print(\"Not found\") # e completed\n",
        "\n",
        "sorted_dict_friend = sorted(dict_friend.items(), key = lambda x: x[0])\n",
        "print(sorted_dict_friend)# f completed"
      ],
      "metadata": {
        "colab": {
          "base_uri": "https://localhost:8080/"
        },
        "id": "Sio6yQ9swwgh",
        "outputId": "aaa2aa4e-e2cf-41e7-bbeb-b42db17695d2"
      },
      "execution_count": null,
      "outputs": [
        {
          "output_type": "stream",
          "name": "stdout",
          "text": [
            "Enter name : Pratham\n",
            "Enter contact_number : 9145495032\n",
            "Enter name : Yash\n",
            "Enter contact_number : 9545367841\n",
            "Enter name : Vidhi\n",
            "Enter contact_number : 8847763061\n",
            "\n",
            "The contact list : \n",
            "{'Pratham': '9145495032', 'Yash': '9545367841', 'Vidhi': '8847763061'}\n",
            "\n",
            "Enter name you want to add in contact list : Yashika\n",
            "Enter contact_number : 100\n",
            "Updated dict : \n",
            "{'Pratham': '9145495032', 'Yash': '9545367841', 'Vidhi': '8847763061', 'Yashika': '100'}\n",
            "\n",
            "Enter name you want to delete for the dict : Yashika\n",
            "7Deleted the entered key\n",
            "The Dict now : \n",
            "{'Pratham': '9145495032', 'Yash': '9545367841', 'Vidhi': '8847763061'}\n",
            "\n",
            "Enter the name of friend you want to change the number : Vidhi\n",
            "Enter the number : 93730000\n",
            "{'Pratham': '9145495032', 'Yash': '9545367841', 'Vidhi': 93730000}\n",
            "\n",
            "Enter name you want to find : Pratham\n",
            "the number of  Pratham is 9145495032\n",
            "[('Pratham', '9145495032'), ('Vidhi', 93730000), ('Yash', '9545367841')]\n"
          ]
        }
      ]
    },
    {
      "cell_type": "code",
      "source": [
        "# 6. You are the manager of a supermarket. Create two list for item_name and its corresponding price. You have a list of items and their prices that consumers bought on a particular day. Your task is to create dictionary with key-value pair as “item_name : price”. Print each item_name and net_price using a Dictionary. Also , sort dictionary with respect to price.\n",
        "\n",
        "list_item_name = [\n",
        "    'apple','banana','cherry','cadbury','vegetables','biscuits','dates','dryfruits','kajukatli','gulbjamun'\n",
        "]\n",
        "list_item_price = [\n",
        "    100, 60, 200, 500, 500, 200, 1000, 2000, 1000, 300\n",
        "]\n",
        "key_list_user_item = []\n",
        "Number_of_items_user_purchased = int(input(\"Enter the number of item : \"))\n",
        "for i in range (Number_of_items_user_purchased):\n",
        "  item = input(\"Enter the item name : \")\n",
        "  key = list_item_name.index(item)\n",
        "  key_list_user_item.append(key)\n",
        "\n",
        "# print(key_list_user_item) # key corresponds to the item is saved through this will access the price accordingly\n",
        "\n",
        "dict_item_price = {}\n",
        "for i in range (Number_of_items_user_purchased):\n",
        "    dict_item_price[list_item_name[key_list_user_item[i]]] = (list_item_price[key_list_user_item[i]])\n",
        "    # Explanation : Basically in key of dict we are passing the item name coresponds to it key and in value we are passing price coresponds to it's index\n",
        "print(\"\\n\", dict_item_price) # passed\n",
        "\n",
        "# Sorting dictionary : # sorted functioin initializing a list and inside creating a tuple for pair\n",
        "sorted_dict_item_price = dict(sorted(dict_item_price.items(), key = lambda x:x[1])) # initilaizing as dict\n",
        "print(\"\\nSorted dict as per value\")\n",
        "print(sorted_dict_item_price)\n",
        "\n",
        "sum = 0\n",
        "for i  in sorted_dict_item_price.values():\n",
        "    sum += i # Final Amount to be paid\n",
        "\n",
        "print(\"\\n############Bill###############\")\n",
        "for i, j in sorted_dict_item_price.items():\n",
        "    print(format(i), \" \\t\\t\", format(j))\n",
        "print(\"############Total##############\")\n",
        "print(\"Total : \\t\\t\", format(sum))\n",
        "\n"
      ],
      "metadata": {
        "id": "qcc36Zas04lK",
        "colab": {
          "base_uri": "https://localhost:8080/"
        },
        "outputId": "fd5e86ab-6ef7-4e22-8493-57d3d8ce6f82"
      },
      "execution_count": null,
      "outputs": [
        {
          "output_type": "stream",
          "name": "stdout",
          "text": [
            "Enter the number of item : 5\n",
            "Enter the item name : cherry\n",
            "Enter the item name : banana\n",
            "Enter the item name : vegetables\n",
            "Enter the item name : kajukatli\n",
            "Enter the item name : dryfruits\n",
            "\n",
            " {'cherry': 200, 'banana': 60, 'vegetables': 500, 'kajukatli': 1000, 'dryfruits': 2000}\n",
            "Sorted dict as per value\n",
            "{'banana': 60, 'cherry': 200, 'vegetables': 500, 'kajukatli': 1000, 'dryfruits': 2000}\n",
            "############Bill###############\n",
            "banana  \t\t 60\n",
            "cherry  \t\t 200\n",
            "vegetables  \t\t 500\n",
            "kajukatli  \t\t 1000\n",
            "dryfruits  \t\t 2000\n",
            "############Total##############\n",
            "Total : \t\t 3760\n"
          ]
        }
      ]
    },
    {
      "cell_type": "code",
      "source": [
        "# (vii) Create a nested dictionary as given below. Food_blogger= { City_name: { food_speciality :[outlet1,utlet2,….outletn]}}\n",
        "# Example:\n",
        "# Food_blogger= { “Nagpur” : { “poha”: [“Bardi”, “KP ground”] }\n",
        "# “Nasik”: { “samosa”: [“ABC”, “XYZ”] }\n",
        "\n",
        "# }\n",
        "\n",
        "# When you run your program it should\n",
        "#  ask the user to enter a city name(atleast 5), and return the details of food specialities (atleast 2 for each city)\n",
        "# of that city back to the user .\n",
        "#  ask the user to enter a food speciality and return the name of that city back to the user.\n",
        "#  ask the user to enter a city and food speciality and return the name of outlets back to the user.\n",
        "\n",
        "dict_famous_food_details = {\n",
        "    'Nagpur' : {'poha' : ['jaripatka', 'KP ground'], 'oranges' : ['cotton market', 'railway station market']},\n",
        "    'Nasik'  : {'Beard pakoda' : ['ABC-CENTER', 'XYZ-CENTER'], 'chai' : ['Special Tea Stall', 'Burner Cafe']},\n",
        "    'Bhopal' : {'Patties'  : ['Karond chauraya', 'Patties center'], 'Lassi' : ['Bus-stand Mobile Market', 'Karond   Chauraya']},\n",
        "    'Mumbai' : {'Chaat' : ['CSMT front gate', 'near fashion street'], 'Fruit mixture' : ['Fruit market near CSMT']},\n",
        "    'Chennai' : {'Barotta' : ['Kanchipuram'], 'Dosa' : ['Famous dosa shop in kanchipuram near KSM super-market']}\n",
        "}\n",
        "\n",
        "def find_food(dict_famous_food_details):\n",
        "    city_name = input(\"Enter the city name : \")\n",
        "    for city, food in dict_famous_food_details.items():\n",
        "        if(city_name == city):\n",
        "            for i, j in food.items():\n",
        "                print(i, \":\", j)\n",
        "            return 1\n",
        "    return 0\n",
        "        \n",
        "if(find_food(dict_famous_food_details) == 0): # 1 passed\n",
        "    print(\"Not found\")\n",
        "\n",
        "def find_city():\n",
        "    food_name = input(\"\\nEnter food name : \")\n",
        "    for i in dict_food:\n",
        "        if(food_name in i):\n",
        "            return dict_food.index(i)    \n",
        "    return -1\n",
        "\n",
        "dict_food = []\n",
        "dict_city = []\n",
        "for i, j in dict_famous_food_details.items():\n",
        "    dict_food.append(j.keys())\n",
        "    dict_city.append(i)\n",
        "\n",
        "index_of_food = find_city()\n",
        "if(index_of_food == -1):\n",
        "    print(\"Not in data\")\n",
        "else:\n",
        "    print(dict_city[index_of_food]) # task 2 completed\n",
        "\n",
        "\n",
        "def find_city_1():\n",
        "    food_city = input(\"\\nEnter city name : \")\n",
        "    for i in dict_city:\n",
        "        if(food_city in i):\n",
        "            return dict_city.index(i)    \n",
        "    return -1\n",
        "\n",
        "def find_food_1():\n",
        "    food_name = input(\"Enter food name : \")\n",
        "    for i in dict_food:\n",
        "        if(food_name in i):\n",
        "            return dict_food.index(i)    \n",
        "    return -1\n",
        "\n",
        "city1 = find_city_1()\n",
        "food_1 = find_food_1()\n",
        "place = []\n",
        "for i, j in dict_famous_food_details.items():\n",
        "    for k, l in j.items():\n",
        "        place.append(l)\n",
        "print(place[food_1])# task 3 completed\n"
      ],
      "metadata": {
        "id": "Ht6kKODKmuBs",
        "colab": {
          "base_uri": "https://localhost:8080/"
        },
        "outputId": "cab1e1e7-1a53-44ac-fe6d-f55a5062ae6d"
      },
      "execution_count": null,
      "outputs": [
        {
          "output_type": "stream",
          "name": "stdout",
          "text": [
            "Enter the city name : Chennai\n",
            "Barotta : ['Kanchipuram']\n",
            "Dosa : ['Famous dosa shop in kanchipuram near KSM super-market']\n",
            "\n",
            "Enter food name : Patties\n",
            "Bhopal\n",
            "\n",
            "Enter city name : Mumbai\n",
            "Enter food name : Chaat\n",
            "['Special Tea Stall', 'Burner Cafe']\n"
          ]
        }
      ]
    },
    {
      "cell_type": "code",
      "source": [
        "# 8 . Write a Python program to on sets.(using both operator and method)\n",
        "# Following are the two sets: cultural_activity, sports_activity which contains name of students\n",
        "# participating. .(using both operator and method)\n",
        "#  Display students participating in both cultural_activity and sports_activity.\n",
        "#  Display students participating in cultural_activity but not in sports_activity.\n",
        "#  Display students participating in sports_activity but not in cultural_activity.\n",
        "#  Display all the students participating in cultural_activity , sports_activity and in both.\n",
        "\n",
        "cultural_activity={'Aayansh', 'Brooke', 'Advik', 'Bobby', 'Ben', 'Bella', 'Pratham'}\n",
        "sports_activity={'Anvi', 'Bella', 'Adya', 'Ben', 'Anvit', 'Aayansh', 'Pratham'}\n",
        "\n",
        "print(\"Students participating in cultural as well as sports activity are : \")\n",
        "print(cultural_activity & sports_activity )\n",
        "\n",
        "print(\"\\nStudents participating in cultural activity (not in sports) are : \")\n",
        "\n",
        "print(cultural_activity - sports_activity)\n",
        "\n",
        "print(\"\\nStudents participating in  sports activity (not in cultural) are : \")\n",
        "print(sports_activity - cultural_activity)\n",
        "\n",
        "print(\"\\nStudents participating in sports and cultural activity are : \")\n",
        "print(sports_activity.union(cultural_activity))"
      ],
      "metadata": {
        "colab": {
          "base_uri": "https://localhost:8080/"
        },
        "id": "--gpaoPUm4vD",
        "outputId": "a41a1c66-73cc-4c54-dc2c-ec811edae6a4"
      },
      "execution_count": null,
      "outputs": [
        {
          "output_type": "stream",
          "name": "stdout",
          "text": [
            "Students participating in cultural as well as sports activity are : \n",
            "{'Aayansh', 'Ben', 'Pratham', 'Bella'}\n",
            "\n",
            "Students participating in cultural activity (not in sports) are : \n",
            "{'Bobby', 'Brooke', 'Advik'}\n",
            "\n",
            "Students participating in  sports activity (not in cultural) are : \n",
            "{'Anvi', 'Adya', 'Anvit'}\n",
            "\n",
            "Students participating in sports and cultural activity are : \n",
            "{'Adya', 'Aayansh', 'Advik', 'Anvi', 'Anvit', 'Bella', 'Ben', 'Pratham', 'Brooke', 'Bobby'}\n"
          ]
        }
      ]
    },
    {
      "cell_type": "code",
      "source": [
        "# 9. Set contains names which begin either with A or with B. Write a program to separate out the names into two sets, one containing names beginning with A and another containing names beginning with B.\n",
        "\n",
        "name = {'Aayansh', 'Brooke', 'Advik', 'Bobby',\n",
        "        'Anvi', 'Bella', 'Adya', 'Ben', 'Anvit'}\n",
        "\n",
        "name_starts_with_A = set()\n",
        "name_starts_with_B = set()\n",
        "\n",
        "for i in name:\n",
        "    if i.startswith('A'):\n",
        "        name_starts_with_A.add(i)\n",
        "    else:\n",
        "        name_starts_with_B.add(i)\n",
        "\n",
        "print(\"Name starting with 'A' are follow as : \")\n",
        "for i in name_starts_with_A:\n",
        "    print(i)\n",
        "\n",
        "print()\n",
        "print(\"Name starting with 'B' are follow as : \")\n",
        "for i in name_starts_with_B:\n",
        "    print(i)\n"
      ],
      "metadata": {
        "colab": {
          "base_uri": "https://localhost:8080/"
        },
        "id": "rTr1eRL9pDwF",
        "outputId": "7b9bad95-3272-4a0b-ca7c-36661670ee7e"
      },
      "execution_count": null,
      "outputs": [
        {
          "output_type": "stream",
          "name": "stdout",
          "text": [
            "Name starting with 'A' are follow as : \n",
            "Aayansh\n",
            "Adya\n",
            "Advik\n",
            "Anvi\n",
            "Anvit\n",
            "\n",
            "Name starting with 'B' are follow as : \n",
            "Bella\n",
            "Ben\n",
            "Brooke\n",
            "Bobby\n"
          ]
        }
      ]
    },
    {
      "cell_type": "code",
      "source": [
        "# 10. Write a program to create a set containing 10 randomly generated numbers in the range 15 to 45. Count how many of these numbers are less than 30. Delete all numbers which are greater than 35.\n",
        "\n",
        "import random\n",
        "random_number = set()\n",
        "\n",
        "for i in range(10):\n",
        "    k = random.randint(15, 45)\n",
        "    random_number.add(k)\n",
        "\n",
        "count_lessThan_30 = 0\n",
        "for i in random_number:\n",
        "    if (i < 30):\n",
        "        count_lessThan_30 += 1\n",
        "    if (i > 35):\n",
        "        random_number.remove\n",
        "\n",
        "print(\"Number of elements less than 30 is :\", count_lessThan_30)\n",
        "print(\"\\nThe set after deleting the elements greater than 35:\")\n",
        "print(random_number)"
      ],
      "metadata": {
        "colab": {
          "base_uri": "https://localhost:8080/",
          "height": 0
        },
        "id": "o8WXdphaC-fK",
        "outputId": "ad6817e2-a377-4a3c-8f76-98a83638a3a5"
      },
      "execution_count": 2,
      "outputs": [
        {
          "output_type": "stream",
          "name": "stdout",
          "text": [
            "Number of elements less than 30 is : 6\n",
            "\n",
            "The set after deleting the elements greater than 35:\n",
            "{32, 36, 42, 16, 23, 24, 26, 27, 28, 30}\n"
          ]
        }
      ]
    }
  ]
}